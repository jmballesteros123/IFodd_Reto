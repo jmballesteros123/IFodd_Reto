{
  "cells": [
    {
      "cell_type": "markdown",
      "source": [
        "# Estimación de Probabilidad de Radmisión de Pacientes Diabeticos."
      ],
      "metadata": {
        "id": "Ky1WBtXl8ysf"
      }
    },
    {
      "cell_type": "code",
      "execution_count": 1,
      "metadata": {
        "id": "99nN43WgpuMX"
      },
      "outputs": [],
      "source": [
        "from bs4 import BeautifulSoup\n",
        "import requests"
      ]
    },
    {
      "cell_type": "code",
      "execution_count": 2,
      "metadata": {
        "id": "C0RFWdDSpu9v"
      },
      "outputs": [],
      "source": [
        "url = 'https://downloads.apache.org/spark/' \n",
        "r = requests.get(url)\n",
        "html_doc = r.text\n",
        "soup = BeautifulSoup(html_doc)"
      ]
    },
    {
      "cell_type": "code",
      "execution_count": 3,
      "metadata": {
        "colab": {
          "base_uri": "https://localhost:8080/"
        },
        "id": "nvQ_xJqSpu_y",
        "outputId": "c7422f85-e4ce-4d90-eecd-e32871c806b9"
      },
      "outputs": [
        {
          "output_type": "stream",
          "name": "stdout",
          "text": [
            "['spark-2.4.8/', 'spark-3.0.3/', 'spark-3.1.2/', 'spark-3.2.0/']\n"
          ]
        }
      ],
      "source": [
        "# leer la pagina web y obtener las versiones de spark disponibles\n",
        "link_files = []\n",
        "for link in soup.find_all('a'):\n",
        "  link_files.append(link.get('href'))\n",
        "spark_link = [x for x in link_files if 'spark' in x]  \n",
        "print(spark_link)"
      ]
    },
    {
      "cell_type": "code",
      "execution_count": 4,
      "metadata": {
        "colab": {
          "base_uri": "https://localhost:8080/"
        },
        "id": "5FuAgrXVpvCT",
        "outputId": "d32bba5e-d673-4a10-a009-6437ca387811"
      },
      "outputs": [
        {
          "output_type": "stream",
          "name": "stdout",
          "text": [
            "spark-3.0.3\n"
          ]
        }
      ],
      "source": [
        "ver_spark = spark_link[1][:-1] # obtener la version y eliminar el caracter '/' del final\n",
        "print(ver_spark)"
      ]
    },
    {
      "cell_type": "code",
      "execution_count": 5,
      "metadata": {
        "id": "K_3lrLutpvFp",
        "colab": {
          "base_uri": "https://localhost:8080/"
        },
        "outputId": "532881f3-5709-4432-8f70-16adc672b38e"
      },
      "outputs": [
        {
          "output_type": "stream",
          "name": "stdout",
          "text": [
            "\u001b[K     |████████████████████████████████| 281.3 MB 29 kB/s \n",
            "\u001b[K     |████████████████████████████████| 198 kB 42.4 MB/s \n",
            "\u001b[?25h  Building wheel for pyspark (setup.py) ... \u001b[?25l\u001b[?25hdone\n"
          ]
        }
      ],
      "source": [
        "import os # libreria de manejo del sistema operativo\n",
        "#instalar automaticamente la version deseadda de spark\n",
        "link = \"https://www-us.apache.org/dist/spark/\"\n",
        "os.system(f\"wget -q {link}{ver_spark}/{ver_spark}-bin-hadoop2.7.tgz\")\n",
        "os.system(f\"tar xf {ver_spark}-bin-hadoop2.7.tgz\")\n",
        "\n",
        "# instalar pyspark\n",
        "!pip install -q pyspark"
      ]
    },
    {
      "cell_type": "code",
      "execution_count": 6,
      "metadata": {
        "colab": {
          "base_uri": "https://localhost:8080/"
        },
        "id": "eQXIYT7AQs9A",
        "outputId": "98acb64a-e46b-4e73-9c92-be81135ff2d3"
      },
      "outputs": [
        {
          "output_type": "stream",
          "name": "stdout",
          "text": [
            "Mounted at /content/drive\n"
          ]
        }
      ],
      "source": [
        "from google.colab import drive\n",
        "drive.mount('/content/drive')"
      ]
    },
    {
      "cell_type": "markdown",
      "metadata": {
        "id": "OiJDYsC-QMUw"
      },
      "source": [
        "# Instanciar Spark Session"
      ]
    },
    {
      "cell_type": "code",
      "execution_count": 7,
      "metadata": {
        "id": "1AvyLC3UqI6m"
      },
      "outputs": [],
      "source": [
        "\n",
        "from pyspark.sql import SparkSession\n",
        "spark = SparkSession.builder.master(\"local[*]\").getOrCreate()"
      ]
    },
    {
      "cell_type": "code",
      "execution_count": 8,
      "metadata": {
        "colab": {
          "base_uri": "https://localhost:8080/",
          "height": 17
        },
        "id": "2S2DToQKQiuK",
        "outputId": "78e21952-2351-41f4-c1ff-eaea9163d7c8"
      },
      "outputs": [
        {
          "output_type": "display_data",
          "data": {
            "text/html": [
              "<style>\n",
              "  .output_stdout > pre{\n",
              "      width:100000px !important;\n",
              "  }\n",
              "</style>"
            ],
            "text/plain": [
              "<IPython.core.display.HTML object>"
            ]
          },
          "metadata": {}
        }
      ],
      "source": [
        "%%html\n",
        "<style>\n",
        "  .output_stdout > pre{\n",
        "      width:100000px !important;\n",
        "  }\n",
        "</style>"
      ]
    },
    {
      "cell_type": "markdown",
      "metadata": {
        "id": "r51Z9JTxQSFf"
      },
      "source": [
        "# Importar Librerias\n"
      ]
    },
    {
      "cell_type": "code",
      "execution_count": 9,
      "metadata": {
        "id": "EhHsnQavQUXi"
      },
      "outputs": [],
      "source": [
        "# PySpark\n",
        "from pyspark.sql.functions import *\n",
        "from pyspark.sql.window import Window\n",
        "from pyspark.sql.types import *\n",
        "\n",
        "\n",
        "from sklearn.feature_selection import RFE\n",
        "from sklearn.linear_model import LogisticRegression\n",
        "#Estandarización gaussiana de columnas\n",
        "from sklearn.preprocessing import StandardScaler\n",
        "#Librerías Machine Learning\n",
        "#Segmentación de base entre Train y Test\n",
        "from sklearn.model_selection import train_test_split\n",
        "#Iteración de parametros\n",
        "from sklearn.model_selection import GridSearchCV\n",
        "#Estandarización gaussiana de columnas\n",
        "from sklearn.preprocessing import StandardScaler\n",
        "#Modelo Logístico\n",
        "import xgboost as xgb\n",
        "\n",
        "#from pandas_profiling import ProfileReport\n",
        "\n",
        "from sklearn.linear_model import LogisticRegression as LR\n",
        "# Modelo de Árbol de Decisión\n",
        "from sklearn import tree\n",
        "#Modelo de Random Forest\n",
        "from sklearn.ensemble import RandomForestClassifier\n",
        "# importacion de métricas de desempeño\n",
        "from sklearn.metrics import f1_score,recall_score,precision_score\n",
        "from sklearn.metrics import confusion_matrix\n",
        "\n",
        "from sklearn.metrics import classification_report, precision_recall_fscore_support   #Estimación de metricas en los modelos\n",
        "from sklearn.metrics import roc_curve, roc_auc_score     #Estimación de curva ROC y AUC\n",
        "from sklearn.model_selection import cross_val_score       # Libreria para validacion cruzada\n",
        "# Acurracy\n",
        "from sklearn import metrics\n",
        "from sklearn.discriminant_analysis import LinearDiscriminantAnalysis\n",
        "from sklearn.tree import DecisionTreeClassifier\n",
        "from sklearn.neighbors import KNeighborsClassifier\n",
        "\n",
        "from sklearn.cluster import KMeans\n",
        "\n",
        "from imblearn.under_sampling import NearMiss\n",
        "from imblearn.over_sampling import RandomOverSampler\n",
        "from imblearn.combine import SMOTETomek\n",
        "from imblearn.ensemble import BalancedBaggingClassifier\n",
        "\n",
        "\n",
        "# Python\n",
        "import pandas as pd\n",
        "import numpy as np\n",
        "import matplotlib.pyplot as plt\n",
        "%matplotlib inline\n",
        "import seaborn as sns\n",
        "pd.options.display.max_rows = None\n",
        "pd.options.display.max_columns = None"
      ]
    },
    {
      "cell_type": "markdown",
      "metadata": {
        "id": "QbD_84_kRlYF"
      },
      "source": [
        "## Lectura y Exploración BBDD"
      ]
    },
    {
      "cell_type": "code",
      "execution_count": 10,
      "metadata": {
        "id": "-DyckiyVQUcr"
      },
      "outputs": [],
      "source": [
        "path = \"/content/drive/MyDrive/Data Scientist/dataset_diabetes/diabetic_data.csv\"\n",
        "df = spark.read.csv(path, header =True)"
      ]
    },
    {
      "cell_type": "code",
      "execution_count": 11,
      "metadata": {
        "colab": {
          "base_uri": "https://localhost:8080/"
        },
        "id": "1mQxZg3LQUgJ",
        "outputId": "03768315-d0de-4140-9207-6bb29113de3f"
      },
      "outputs": [
        {
          "output_type": "stream",
          "name": "stdout",
          "text": [
            "+------------+-----------+---------+------+-------+------+-----------------+------------------------+-------------------+----------------+----------+--------------------+------------------+--------------+---------------+-----------------+----------------+----------------+------+------+------+----------------+-------------+---------+---------+-----------+-----------+--------------+-----------+-------------+---------+---------+-----------+------------+-------------+--------+--------+------------+----------+-------+-----------+-------+-------------------+-------------------+------------------------+-----------------------+----------------------+------+-----------+----------+\n",
            "|encounter_id|patient_nbr|     race|gender|    age|weight|admission_type_id|discharge_disposition_id|admission_source_id|time_in_hospital|payer_code|   medical_specialty|num_lab_procedures|num_procedures|num_medications|number_outpatient|number_emergency|number_inpatient|diag_1|diag_2|diag_3|number_diagnoses|max_glu_serum|A1Cresult|metformin|repaglinide|nateglinide|chlorpropamide|glimepiride|acetohexamide|glipizide|glyburide|tolbutamide|pioglitazone|rosiglitazone|acarbose|miglitol|troglitazone|tolazamide|examide|citoglipton|insulin|glyburide-metformin|glipizide-metformin|glimepiride-pioglitazone|metformin-rosiglitazone|metformin-pioglitazone|change|diabetesMed|readmitted|\n",
            "+------------+-----------+---------+------+-------+------+-----------------+------------------------+-------------------+----------------+----------+--------------------+------------------+--------------+---------------+-----------------+----------------+----------------+------+------+------+----------------+-------------+---------+---------+-----------+-----------+--------------+-----------+-------------+---------+---------+-----------+------------+-------------+--------+--------+------------+----------+-------+-----------+-------+-------------------+-------------------+------------------------+-----------------------+----------------------+------+-----------+----------+\n",
            "|     2476920|    4279149|Caucasian|Female|[80-90)|     ?|                6|                      25|                  1|               5|         ?|Orthopedics-Recon...|                54|             1|             15|                0|               0|               0|   824|250.82|  E888|               8|         None|       >8|       No|         No|         No|            No|         No|           No|       No|       No|         No|          No|           No|      No|      No|          No|        No|     No|         No| Steady|                 No|                 No|                      No|                     No|                    No|    No|        Yes|        NO|\n",
            "|     3699894|    8879148|Caucasian|  Male|[50-60)|     ?|                6|                      25|                  7|               9|         ?|    InternalMedicine|                65|             5|             28|                0|               0|               0|   410|   427|   427|               7|         None|     None|       No|         No|         No|            No|         No|           No|       No|       No|         No|          No|           No|      No|      No|          No|        No|     No|         No| Steady|                 No|                 No|                      No|                     No|                    No|    No|        Yes|        NO|\n",
            "|     5790000|    1054494|Caucasian|  Male|[70-80)|     ?|                1|                       3|                  7|               8|         ?|          Cardiology|                65|             3|             23|                0|               0|               0|   434|   733|   784|               8|         None|     None|       No|         No|         No|            No|         No|           No|       No|       Up|         No|          No|           No|      No|      No|          No|        No|     No|         No| Steady|                 No|                 No|                      No|                     No|                    No|    Ch|        Yes|       <30|\n",
            "+------------+-----------+---------+------+-------+------+-----------------+------------------------+-------------------+----------------+----------+--------------------+------------------+--------------+---------------+-----------------+----------------+----------------+------+------+------+----------------+-------------+---------+---------+-----------+-----------+--------------+-----------+-------------+---------+---------+-----------+------------+-------------+--------+--------+------------+----------+-------+-----------+-------+-------------------+-------------------+------------------------+-----------------------+----------------------+------+-----------+----------+\n",
            "only showing top 3 rows\n",
            "\n"
          ]
        }
      ],
      "source": [
        "df = df.dropDuplicates()\n",
        "df.show(3)"
      ]
    },
    {
      "cell_type": "code",
      "execution_count": 12,
      "metadata": {
        "colab": {
          "base_uri": "https://localhost:8080/"
        },
        "id": "XF0faT1ITTd9",
        "outputId": "901415f0-1d63-4fef-f956-b5fb6e0aa11a"
      },
      "outputs": [
        {
          "output_type": "stream",
          "name": "stdout",
          "text": [
            "La base contiene 101766 filas y  50 columnas\n",
            "root\n",
            " |-- encounter_id: string (nullable = true)\n",
            " |-- patient_nbr: string (nullable = true)\n",
            " |-- race: string (nullable = true)\n",
            " |-- gender: string (nullable = true)\n",
            " |-- age: string (nullable = true)\n",
            " |-- weight: string (nullable = true)\n",
            " |-- admission_type_id: string (nullable = true)\n",
            " |-- discharge_disposition_id: string (nullable = true)\n",
            " |-- admission_source_id: string (nullable = true)\n",
            " |-- time_in_hospital: string (nullable = true)\n",
            " |-- payer_code: string (nullable = true)\n",
            " |-- medical_specialty: string (nullable = true)\n",
            " |-- num_lab_procedures: string (nullable = true)\n",
            " |-- num_procedures: string (nullable = true)\n",
            " |-- num_medications: string (nullable = true)\n",
            " |-- number_outpatient: string (nullable = true)\n",
            " |-- number_emergency: string (nullable = true)\n",
            " |-- number_inpatient: string (nullable = true)\n",
            " |-- diag_1: string (nullable = true)\n",
            " |-- diag_2: string (nullable = true)\n",
            " |-- diag_3: string (nullable = true)\n",
            " |-- number_diagnoses: string (nullable = true)\n",
            " |-- max_glu_serum: string (nullable = true)\n",
            " |-- A1Cresult: string (nullable = true)\n",
            " |-- metformin: string (nullable = true)\n",
            " |-- repaglinide: string (nullable = true)\n",
            " |-- nateglinide: string (nullable = true)\n",
            " |-- chlorpropamide: string (nullable = true)\n",
            " |-- glimepiride: string (nullable = true)\n",
            " |-- acetohexamide: string (nullable = true)\n",
            " |-- glipizide: string (nullable = true)\n",
            " |-- glyburide: string (nullable = true)\n",
            " |-- tolbutamide: string (nullable = true)\n",
            " |-- pioglitazone: string (nullable = true)\n",
            " |-- rosiglitazone: string (nullable = true)\n",
            " |-- acarbose: string (nullable = true)\n",
            " |-- miglitol: string (nullable = true)\n",
            " |-- troglitazone: string (nullable = true)\n",
            " |-- tolazamide: string (nullable = true)\n",
            " |-- examide: string (nullable = true)\n",
            " |-- citoglipton: string (nullable = true)\n",
            " |-- insulin: string (nullable = true)\n",
            " |-- glyburide-metformin: string (nullable = true)\n",
            " |-- glipizide-metformin: string (nullable = true)\n",
            " |-- glimepiride-pioglitazone: string (nullable = true)\n",
            " |-- metformin-rosiglitazone: string (nullable = true)\n",
            " |-- metformin-pioglitazone: string (nullable = true)\n",
            " |-- change: string (nullable = true)\n",
            " |-- diabetesMed: string (nullable = true)\n",
            " |-- readmitted: string (nullable = true)\n",
            "\n"
          ]
        }
      ],
      "source": [
        "# Dimensiones\n",
        "print('La base contiene '+str(df.count())+' filas y ',str(len(df.columns))+' columnas')\n",
        "df.printSchema()"
      ]
    },
    {
      "cell_type": "code",
      "execution_count": 13,
      "metadata": {
        "id": "GFC1-NjZm37B"
      },
      "outputs": [],
      "source": [
        "# Casteo de Variables\n",
        "df = df.withColumn(\"time_in_hospital\", df.time_in_hospital.cast('float'))\n",
        "df = df.withColumn(\"num_lab_procedures\", df.num_lab_procedures.cast('float'))\n",
        "df = df.withColumn(\"num_procedures\", df.num_procedures.cast('float'))\n",
        "df = df.withColumn(\"num_medications\", df.num_medications.cast('float'))\n",
        "df = df.withColumn(\"number_outpatient\", df.number_outpatient.cast('float'))\n",
        "df = df.withColumn(\"number_emergency\", df.number_emergency.cast('float'))\n",
        "df = df.withColumn(\"number_inpatient\", df.number_inpatient.cast('float'))\n",
        "df = df.withColumn(\"number_diagnoses\", df.number_diagnoses.cast('float'))\n"
      ]
    },
    {
      "cell_type": "code",
      "execution_count": 14,
      "metadata": {
        "colab": {
          "base_uri": "https://localhost:8080/"
        },
        "id": "i48o6ZLmm9T2",
        "outputId": "5cd54e38-2797-4e4f-93f0-c3e46f35e1c7"
      },
      "outputs": [
        {
          "output_type": "stream",
          "name": "stdout",
          "text": [
            "root\n",
            " |-- encounter_id: string (nullable = true)\n",
            " |-- patient_nbr: string (nullable = true)\n",
            " |-- race: string (nullable = true)\n",
            " |-- gender: string (nullable = true)\n",
            " |-- age: string (nullable = true)\n",
            " |-- weight: string (nullable = true)\n",
            " |-- admission_type_id: string (nullable = true)\n",
            " |-- discharge_disposition_id: string (nullable = true)\n",
            " |-- admission_source_id: string (nullable = true)\n",
            " |-- time_in_hospital: float (nullable = true)\n",
            " |-- payer_code: string (nullable = true)\n",
            " |-- medical_specialty: string (nullable = true)\n",
            " |-- num_lab_procedures: float (nullable = true)\n",
            " |-- num_procedures: float (nullable = true)\n",
            " |-- num_medications: float (nullable = true)\n",
            " |-- number_outpatient: float (nullable = true)\n",
            " |-- number_emergency: float (nullable = true)\n",
            " |-- number_inpatient: float (nullable = true)\n",
            " |-- diag_1: string (nullable = true)\n",
            " |-- diag_2: string (nullable = true)\n",
            " |-- diag_3: string (nullable = true)\n",
            " |-- number_diagnoses: float (nullable = true)\n",
            " |-- max_glu_serum: string (nullable = true)\n",
            " |-- A1Cresult: string (nullable = true)\n",
            " |-- metformin: string (nullable = true)\n",
            " |-- repaglinide: string (nullable = true)\n",
            " |-- nateglinide: string (nullable = true)\n",
            " |-- chlorpropamide: string (nullable = true)\n",
            " |-- glimepiride: string (nullable = true)\n",
            " |-- acetohexamide: string (nullable = true)\n",
            " |-- glipizide: string (nullable = true)\n",
            " |-- glyburide: string (nullable = true)\n",
            " |-- tolbutamide: string (nullable = true)\n",
            " |-- pioglitazone: string (nullable = true)\n",
            " |-- rosiglitazone: string (nullable = true)\n",
            " |-- acarbose: string (nullable = true)\n",
            " |-- miglitol: string (nullable = true)\n",
            " |-- troglitazone: string (nullable = true)\n",
            " |-- tolazamide: string (nullable = true)\n",
            " |-- examide: string (nullable = true)\n",
            " |-- citoglipton: string (nullable = true)\n",
            " |-- insulin: string (nullable = true)\n",
            " |-- glyburide-metformin: string (nullable = true)\n",
            " |-- glipizide-metformin: string (nullable = true)\n",
            " |-- glimepiride-pioglitazone: string (nullable = true)\n",
            " |-- metformin-rosiglitazone: string (nullable = true)\n",
            " |-- metformin-pioglitazone: string (nullable = true)\n",
            " |-- change: string (nullable = true)\n",
            " |-- diabetesMed: string (nullable = true)\n",
            " |-- readmitted: string (nullable = true)\n",
            "\n"
          ]
        }
      ],
      "source": [
        "df.printSchema()"
      ]
    },
    {
      "cell_type": "code",
      "execution_count": 15,
      "metadata": {
        "id": "bvgvzL1eoG3F"
      },
      "outputs": [],
      "source": [
        " categorical_cols = [item[0] for item in df.dtypes if item[1]=='string']\n",
        " numerical_cols = [item[0] for item in df.dtypes if item[1]!='string']\n"
      ]
    },
    {
      "cell_type": "markdown",
      "metadata": {
        "id": "zonXP07QlNzT"
      },
      "source": [
        "# Análisis Exploratorio de Datos\n"
      ]
    },
    {
      "cell_type": "markdown",
      "metadata": {
        "id": "esN07XqL5xi4"
      },
      "source": [
        "\n",
        "## Categorías por variable"
      ]
    },
    {
      "cell_type": "code",
      "execution_count": 16,
      "metadata": {
        "colab": {
          "base_uri": "https://localhost:8080/"
        },
        "id": "L-DqOkx0lM90",
        "outputId": "25377874-8b73-460d-f97a-58dba16a27fb"
      },
      "outputs": [
        {
          "output_type": "stream",
          "name": "stdout",
          "text": [
            "+------------+-----+\n",
            "|encounter_id|count|\n",
            "+------------+-----+\n",
            "|    40451856|    1|\n",
            "|    55003164|    1|\n",
            "|    48634122|    1|\n",
            "|    82741590|    1|\n",
            "|    58222080|    1|\n",
            "|    62619726|    1|\n",
            "|   150759384|    1|\n",
            "|    59850246|    1|\n",
            "|   139043466|    1|\n",
            "|   154479366|    1|\n",
            "|    97915182|    1|\n",
            "|     6815154|    1|\n",
            "|   125386950|    1|\n",
            "|   143247264|    1|\n",
            "|    32340144|    1|\n",
            "|    42932556|    1|\n",
            "|    56476074|    1|\n",
            "|   115604850|    1|\n",
            "|   149218878|    1|\n",
            "|   146721102|    1|\n",
            "+------------+-----+\n",
            "only showing top 20 rows\n",
            "\n",
            "+-----------+-----+\n",
            "|patient_nbr|count|\n",
            "+-----------+-----+\n",
            "|   18969354|    2|\n",
            "|   23833737|    4|\n",
            "|   23382171|    3|\n",
            "|   23999787|    1|\n",
            "|   25823484|    2|\n",
            "|   42144660|    5|\n",
            "|   35346321|    1|\n",
            "|     776115|    3|\n",
            "|   41658057|    8|\n",
            "|   29145654|    2|\n",
            "|   43799391|    1|\n",
            "|   24157215|    1|\n",
            "|  107818785|    1|\n",
            "|   32807241|    1|\n",
            "|   41776830|    1|\n",
            "|      63702|    1|\n",
            "|   62285715|    1|\n",
            "|   24035283|    1|\n",
            "|   14023503|    2|\n",
            "|     520686|    1|\n",
            "+-----------+-----+\n",
            "only showing top 20 rows\n",
            "\n",
            "+---------------+-----+\n",
            "|           race|count|\n",
            "+---------------+-----+\n",
            "|      Caucasian|76099|\n",
            "|          Other| 1506|\n",
            "|AfricanAmerican|19210|\n",
            "|       Hispanic| 2037|\n",
            "|          Asian|  641|\n",
            "|              ?| 2273|\n",
            "+---------------+-----+\n",
            "\n",
            "+---------------+-----+\n",
            "|         gender|count|\n",
            "+---------------+-----+\n",
            "|         Female|54708|\n",
            "|Unknown/Invalid|    3|\n",
            "|           Male|47055|\n",
            "+---------------+-----+\n",
            "\n",
            "+--------+-----+\n",
            "|     age|count|\n",
            "+--------+-----+\n",
            "| [70-80)|26068|\n",
            "|[90-100)| 2793|\n",
            "| [40-50)| 9685|\n",
            "| [10-20)|  691|\n",
            "| [20-30)| 1657|\n",
            "| [30-40)| 3775|\n",
            "|  [0-10)|  161|\n",
            "| [80-90)|17197|\n",
            "| [50-60)|17256|\n",
            "| [60-70)|22483|\n",
            "+--------+-----+\n",
            "\n",
            "+---------+-----+\n",
            "|   weight|count|\n",
            "+---------+-----+\n",
            "|[150-175)|   35|\n",
            "|[125-150)|  145|\n",
            "|   [0-25)|   48|\n",
            "|  [25-50)|   97|\n",
            "| [75-100)| 1336|\n",
            "|[175-200)|   11|\n",
            "|[100-125)|  625|\n",
            "|     >200|    3|\n",
            "|  [50-75)|  897|\n",
            "|        ?|98569|\n",
            "+---------+-----+\n",
            "\n",
            "+-----------------+-----+\n",
            "|admission_type_id|count|\n",
            "+-----------------+-----+\n",
            "|                7|   21|\n",
            "|                3|18869|\n",
            "|                8|  320|\n",
            "|                5| 4785|\n",
            "|                6| 5291|\n",
            "|                1|53990|\n",
            "|                4|   10|\n",
            "|                2|18480|\n",
            "+-----------------+-----+\n",
            "\n",
            "+------------------------+-----+\n",
            "|discharge_disposition_id|count|\n",
            "+------------------------+-----+\n",
            "|                       7|  623|\n",
            "|                      15|   63|\n",
            "|                      11| 1642|\n",
            "|                       3|13954|\n",
            "|                       8|  108|\n",
            "|                      22| 1993|\n",
            "|                      28|  139|\n",
            "|                      16|   11|\n",
            "|                       5| 1184|\n",
            "|                      18| 3691|\n",
            "|                      27|    5|\n",
            "|                      17|   14|\n",
            "|                       6|12902|\n",
            "|                      19|    8|\n",
            "|                      23|  412|\n",
            "|                      25|  989|\n",
            "|                      24|   48|\n",
            "|                       9|   21|\n",
            "|                       1|60234|\n",
            "|                      20|    2|\n",
            "+------------------------+-----+\n",
            "only showing top 20 rows\n",
            "\n",
            "+-------------------+-----+\n",
            "|admission_source_id|count|\n",
            "+-------------------+-----+\n",
            "|                  7|57494|\n",
            "|                 11|    2|\n",
            "|                  3|  187|\n",
            "|                  8|   16|\n",
            "|                 22|   12|\n",
            "|                  5|  855|\n",
            "|                 17| 6781|\n",
            "|                  6| 2264|\n",
            "|                 25|    2|\n",
            "|                  9|  125|\n",
            "|                  1|29565|\n",
            "|                 20|  161|\n",
            "|                 10|    8|\n",
            "|                  4| 3187|\n",
            "|                 13|    1|\n",
            "|                 14|    2|\n",
            "|                  2| 1104|\n",
            "+-------------------+-----+\n",
            "\n",
            "+----------+-----+\n",
            "|payer_code|count|\n",
            "+----------+-----+\n",
            "|        WC|  135|\n",
            "|        BC| 4655|\n",
            "|        MD| 3532|\n",
            "|        SP| 5007|\n",
            "|        PO|  592|\n",
            "|        OG| 1033|\n",
            "|        CM| 1937|\n",
            "|        FR|    1|\n",
            "|        CH|  146|\n",
            "|        MC|32439|\n",
            "|        UN| 2448|\n",
            "|        DM|  549|\n",
            "|        CP| 2533|\n",
            "|        SI|   55|\n",
            "|        OT|   95|\n",
            "|         ?|40256|\n",
            "|        HM| 6274|\n",
            "|        MP|   79|\n",
            "+----------+-----+\n",
            "\n",
            "+--------------------+-----+\n",
            "|   medical_specialty|count|\n",
            "+--------------------+-----+\n",
            "|Pediatrics-Allerg...|    3|\n",
            "|Pediatrics-Neurology|   10|\n",
            "|Orthopedics-Recon...| 1233|\n",
            "|          Obstetrics|   19|\n",
            "|ObstetricsandGyne...|  671|\n",
            "|Surgery-Colon&Rectal|   11|\n",
            "|Psychiatry-Addictive|    1|\n",
            "|          Nephrology| 1613|\n",
            "|Pediatrics-Pulmon...|   25|\n",
            "|           Pathology|   17|\n",
            "|  InfectiousDiseases|   37|\n",
            "|    InternalMedicine|14635|\n",
            "|        Rheumatology|   17|\n",
            "|Pediatrics-Critic...|   87|\n",
            "|    Emergency/Trauma| 7565|\n",
            "|             DCPTEAM|    6|\n",
            "|    OutreachServices|   12|\n",
            "|             Urology|  685|\n",
            "|         Radiologist| 1140|\n",
            "|   SurgicalSpecialty|   33|\n",
            "+--------------------+-----+\n",
            "only showing top 20 rows\n",
            "\n",
            "+------+-----+\n",
            "|diag_1|count|\n",
            "+------+-----+\n",
            "|   296|  896|\n",
            "|   691|    1|\n",
            "|   451|   40|\n",
            "|   800|    6|\n",
            "|   853|   18|\n",
            "|   944|    2|\n",
            "|   919|    1|\n",
            "|250.01|   61|\n",
            "|   447|   63|\n",
            "|   591|   19|\n",
            "|     7|    2|\n",
            "|   574|  965|\n",
            "|   718|   17|\n",
            "|   307|   25|\n",
            "|   475|   14|\n",
            "|   577| 1057|\n",
            "|   581|   19|\n",
            "|   205|   27|\n",
            "|   747|    7|\n",
            "|   711|   66|\n",
            "+------+-----+\n",
            "only showing top 20 rows\n",
            "\n",
            "+------+-----+\n",
            "|diag_2|count|\n",
            "+------+-----+\n",
            "|   296|  165|\n",
            "|   691|    3|\n",
            "|   451|   32|\n",
            "|   V72|   13|\n",
            "|   800|    1|\n",
            "|   853|    2|\n",
            "|   919|    3|\n",
            "|   870|    3|\n",
            "|250.01| 1523|\n",
            "|   591|  233|\n",
            "|   447|   26|\n",
            "|     7|    1|\n",
            "|   574|  346|\n",
            "|   718|   12|\n",
            "|   307|   13|\n",
            "|   475|    1|\n",
            "|   577|  401|\n",
            "|   581|   80|\n",
            "|   205|   58|\n",
            "|  E858|    4|\n",
            "+------+-----+\n",
            "only showing top 20 rows\n",
            "\n",
            "+------+-----+\n",
            "|diag_3|count|\n",
            "+------+-----+\n",
            "|   296|  214|\n",
            "|   451|    9|\n",
            "|   V72|    8|\n",
            "|   853|    1|\n",
            "|   800|    2|\n",
            "|   919|    3|\n",
            "|250.01|  915|\n",
            "|   591|  140|\n",
            "|   447|   39|\n",
            "|     7|    2|\n",
            "|   574|  136|\n",
            "|   307|   16|\n",
            "|   718|    9|\n",
            "|   577|  149|\n",
            "|   581|   97|\n",
            "|   205|   19|\n",
            "|   747|    9|\n",
            "|  E858|    4|\n",
            "|   334|    5|\n",
            "|  E816|    9|\n",
            "+------+-----+\n",
            "only showing top 20 rows\n",
            "\n",
            "+-------------+-----+\n",
            "|max_glu_serum|count|\n",
            "+-------------+-----+\n",
            "|         None|96420|\n",
            "|         >300| 1264|\n",
            "|         Norm| 2597|\n",
            "|         >200| 1485|\n",
            "+-------------+-----+\n",
            "\n",
            "+---------+-----+\n",
            "|A1Cresult|count|\n",
            "+---------+-----+\n",
            "|     None|84748|\n",
            "|       >8| 8216|\n",
            "|     Norm| 4990|\n",
            "|       >7| 3812|\n",
            "+---------+-----+\n",
            "\n",
            "+---------+-----+\n",
            "|metformin|count|\n",
            "+---------+-----+\n",
            "|   Steady|18346|\n",
            "|       Up| 1067|\n",
            "|       No|81778|\n",
            "|     Down|  575|\n",
            "+---------+-----+\n",
            "\n",
            "+-----------+------+\n",
            "|repaglinide| count|\n",
            "+-----------+------+\n",
            "|     Steady|  1384|\n",
            "|         Up|   110|\n",
            "|         No|100227|\n",
            "|       Down|    45|\n",
            "+-----------+------+\n",
            "\n",
            "+-----------+------+\n",
            "|nateglinide| count|\n",
            "+-----------+------+\n",
            "|     Steady|   668|\n",
            "|         Up|    24|\n",
            "|         No|101063|\n",
            "|       Down|    11|\n",
            "+-----------+------+\n",
            "\n",
            "+--------------+------+\n",
            "|chlorpropamide| count|\n",
            "+--------------+------+\n",
            "|        Steady|    79|\n",
            "|            Up|     6|\n",
            "|            No|101680|\n",
            "|          Down|     1|\n",
            "+--------------+------+\n",
            "\n",
            "+-----------+-----+\n",
            "|glimepiride|count|\n",
            "+-----------+-----+\n",
            "|     Steady| 4670|\n",
            "|         Up|  327|\n",
            "|         No|96575|\n",
            "|       Down|  194|\n",
            "+-----------+-----+\n",
            "\n",
            "+-------------+------+\n",
            "|acetohexamide| count|\n",
            "+-------------+------+\n",
            "|           No|101765|\n",
            "|       Steady|     1|\n",
            "+-------------+------+\n",
            "\n",
            "+---------+-----+\n",
            "|glipizide|count|\n",
            "+---------+-----+\n",
            "|   Steady|11356|\n",
            "|       Up|  770|\n",
            "|       No|89080|\n",
            "|     Down|  560|\n",
            "+---------+-----+\n",
            "\n",
            "+---------+-----+\n",
            "|glyburide|count|\n",
            "+---------+-----+\n",
            "|   Steady| 9274|\n",
            "|       Up|  812|\n",
            "|       No|91116|\n",
            "|     Down|  564|\n",
            "+---------+-----+\n",
            "\n",
            "+-----------+------+\n",
            "|tolbutamide| count|\n",
            "+-----------+------+\n",
            "|     Steady|    23|\n",
            "|         No|101743|\n",
            "+-----------+------+\n",
            "\n",
            "+------------+-----+\n",
            "|pioglitazone|count|\n",
            "+------------+-----+\n",
            "|      Steady| 6976|\n",
            "|          Up|  234|\n",
            "|          No|94438|\n",
            "|        Down|  118|\n",
            "+------------+-----+\n",
            "\n",
            "+-------------+-----+\n",
            "|rosiglitazone|count|\n",
            "+-------------+-----+\n",
            "|       Steady| 6100|\n",
            "|           Up|  178|\n",
            "|           No|95401|\n",
            "|         Down|   87|\n",
            "+-------------+-----+\n",
            "\n",
            "+--------+------+\n",
            "|acarbose| count|\n",
            "+--------+------+\n",
            "|  Steady|   295|\n",
            "|      Up|    10|\n",
            "|      No|101458|\n",
            "|    Down|     3|\n",
            "+--------+------+\n",
            "\n",
            "+--------+------+\n",
            "|miglitol| count|\n",
            "+--------+------+\n",
            "|  Steady|    31|\n",
            "|      Up|     2|\n",
            "|      No|101728|\n",
            "|    Down|     5|\n",
            "+--------+------+\n",
            "\n",
            "+------------+------+\n",
            "|troglitazone| count|\n",
            "+------------+------+\n",
            "|      Steady|     3|\n",
            "|          No|101763|\n",
            "+------------+------+\n",
            "\n",
            "+----------+------+\n",
            "|tolazamide| count|\n",
            "+----------+------+\n",
            "|    Steady|    38|\n",
            "|        No|101727|\n",
            "|        Up|     1|\n",
            "+----------+------+\n",
            "\n",
            "+-------+------+\n",
            "|examide| count|\n",
            "+-------+------+\n",
            "|     No|101766|\n",
            "+-------+------+\n",
            "\n",
            "+-----------+------+\n",
            "|citoglipton| count|\n",
            "+-----------+------+\n",
            "|         No|101766|\n",
            "+-----------+------+\n",
            "\n",
            "+-------+-----+\n",
            "|insulin|count|\n",
            "+-------+-----+\n",
            "| Steady|30849|\n",
            "|     Up|11316|\n",
            "|     No|47383|\n",
            "|   Down|12218|\n",
            "+-------+-----+\n",
            "\n",
            "+-------------------+------+\n",
            "|glyburide-metformin| count|\n",
            "+-------------------+------+\n",
            "|             Steady|   692|\n",
            "|                 Up|     8|\n",
            "|                 No|101060|\n",
            "|               Down|     6|\n",
            "+-------------------+------+\n",
            "\n",
            "+-------------------+------+\n",
            "|glipizide-metformin| count|\n",
            "+-------------------+------+\n",
            "|             Steady|    13|\n",
            "|                 No|101753|\n",
            "+-------------------+------+\n",
            "\n",
            "+------------------------+------+\n",
            "|glimepiride-pioglitazone| count|\n",
            "+------------------------+------+\n",
            "|                      No|101765|\n",
            "|                  Steady|     1|\n",
            "+------------------------+------+\n",
            "\n",
            "+-----------------------+------+\n",
            "|metformin-rosiglitazone| count|\n",
            "+-----------------------+------+\n",
            "|                 Steady|     2|\n",
            "|                     No|101764|\n",
            "+-----------------------+------+\n",
            "\n",
            "+----------------------+------+\n",
            "|metformin-pioglitazone| count|\n",
            "+----------------------+------+\n",
            "|                Steady|     1|\n",
            "|                    No|101765|\n",
            "+----------------------+------+\n",
            "\n",
            "+------+-----+\n",
            "|change|count|\n",
            "+------+-----+\n",
            "|    Ch|47011|\n",
            "|    No|54755|\n",
            "+------+-----+\n",
            "\n",
            "+-----------+-----+\n",
            "|diabetesMed|count|\n",
            "+-----------+-----+\n",
            "|         No|23403|\n",
            "|        Yes|78363|\n",
            "+-----------+-----+\n",
            "\n",
            "+----------+-----+\n",
            "|readmitted|count|\n",
            "+----------+-----+\n",
            "|       >30|35545|\n",
            "|        NO|54864|\n",
            "|       <30|11357|\n",
            "+----------+-----+\n",
            "\n"
          ]
        }
      ],
      "source": [
        "\n",
        "for i in df.select(*categorical_cols):\n",
        "    df2 = df.groupBy(i).count().show()"
      ]
    },
    {
      "cell_type": "markdown",
      "metadata": {
        "id": "SlY1RsEIsWA2"
      },
      "source": [
        "## Análisis de Missings"
      ]
    },
    {
      "cell_type": "code",
      "execution_count": 17,
      "metadata": {
        "colab": {
          "base_uri": "https://localhost:8080/"
        },
        "id": "KYdNaZQ5XrkD",
        "outputId": "632656fe-fdd1-4b1d-c205-a6cf1d57dbf6"
      },
      "outputs": [
        {
          "output_type": "stream",
          "name": "stdout",
          "text": [
            "+------------+-----------+------------------+------+---+-----------------+-----------------+------------------------+-------------------+----------------+----------------+-----------------+------------------+--------------+---------------+-----------------+----------------+----------------+--------------------+------------------+-----------------+----------------+-------------+---------+---------+-----------+-----------+--------------+-----------+-------------+---------+---------+-----------+------------+-------------+--------+--------+------------+----------+-------+-----------+-------+-------------------+-------------------+------------------------+-----------------------+----------------------+------+-----------+----------+\n",
            "|encounter_id|patient_nbr|              race|gender|age|           weight|admission_type_id|discharge_disposition_id|admission_source_id|time_in_hospital|      payer_code|medical_specialty|num_lab_procedures|num_procedures|num_medications|number_outpatient|number_emergency|number_inpatient|              diag_1|            diag_2|           diag_3|number_diagnoses|max_glu_serum|A1Cresult|metformin|repaglinide|nateglinide|chlorpropamide|glimepiride|acetohexamide|glipizide|glyburide|tolbutamide|pioglitazone|rosiglitazone|acarbose|miglitol|troglitazone|tolazamide|examide|citoglipton|insulin|glyburide-metformin|glipizide-metformin|glimepiride-pioglitazone|metformin-rosiglitazone|metformin-pioglitazone|change|diabetesMed|readmitted|\n",
            "+------------+-----------+------------------+------+---+-----------------+-----------------+------------------------+-------------------+----------------+----------------+-----------------+------------------+--------------+---------------+-----------------+----------------+----------------+--------------------+------------------+-----------------+----------------+-------------+---------+---------+-----------+-----------+--------------+-----------+-------------+---------+---------+-----------+------------+-------------+--------+--------+------------+----------+-------+-----------+-------+-------------------+-------------------+------------------------+-----------------------+----------------------+------+-----------+----------+\n",
            "|         0.0|        0.0|2.2335554114340743|   0.0|0.0|96.85847925633315|              0.0|                     0.0|                0.0|             0.0|39.5574160328597|49.08220820313268|               0.0|           0.0|            0.0|              0.0|             0.0|             0.0|0.020635575732562937|0.3517874339170253|1.398305917497003|             0.0|          0.0|      0.0|      0.0|        0.0|        0.0|           0.0|        0.0|          0.0|      0.0|      0.0|        0.0|         0.0|          0.0|     0.0|     0.0|         0.0|       0.0|    0.0|        0.0|    0.0|                0.0|                0.0|                     0.0|                    0.0|                   0.0|   0.0|        0.0|       0.0|\n",
            "+------------+-----------+------------------+------+---+-----------------+-----------------+------------------------+-------------------+----------------+----------------+-----------------+------------------+--------------+---------------+-----------------+----------------+----------------+--------------------+------------------+-----------------+----------------+-------------+---------+---------+-----------+-----------+--------------+-----------+-------------+---------+---------+-----------+------------+-------------+--------+--------+------------+----------+-------+-----------+-------+-------------------+-------------------+------------------------+-----------------------+----------------------+------+-----------+----------+\n",
            "\n"
          ]
        }
      ],
      "source": [
        "df.select([(100*count(when(col(c)==\"?\", c))/df.count()).alias(c) for c in df.columns]).show() \n"
      ]
    },
    {
      "cell_type": "code",
      "execution_count": 18,
      "metadata": {
        "colab": {
          "base_uri": "https://localhost:8080/"
        },
        "id": "lxTKeCGGjO3i",
        "outputId": "1c9aaa46-616a-4290-b650-6163b15e0624"
      },
      "outputs": [
        {
          "output_type": "stream",
          "name": "stdout",
          "text": [
            "+---------------+-----+\n",
            "|         gender|count|\n",
            "+---------------+-----+\n",
            "|         Female|54708|\n",
            "|Unknown/Invalid|    3|\n",
            "|           Male|47055|\n",
            "+---------------+-----+\n",
            "\n"
          ]
        }
      ],
      "source": [
        "df.groupBy(\"gender\").count().show()"
      ]
    },
    {
      "cell_type": "markdown",
      "metadata": {
        "id": "1gKayioNaum1"
      },
      "source": [
        "**NOTA:**  \n",
        " - Se observa que la variable ```weight``` contiene un 96,8% de registros sin informar por lo que se considera no significativa y se elimina de la base.\n",
        "\n",
        "- Se observa que las variables ```payer_code``` y ```medical_specialty``` tienen un 39% y 49% de registros sin informar, imputar esta información podria generar un sesgo del comportamiento real por lo que tambien se eliminan de la base.\n",
        "\n",
        "- En otros casos no se observan variaciones significativas por lo que se procede a eliminar registros donde las variables  ```race```, ```diag_1```, ```diag_2```, ```diag_3```, presentan missings. \n",
        "\n",
        "- En particular la variable  ```gender``` tiene bajo nivel de información en la categoria \"Unknown/Invalid\" por que se eliminan registros con esta categoria.\n",
        " \n",
        " - Las variables ```citoglipton``` y  ```examide```, registran un valor único lo que no aporta información por lo que se eliminan.\n",
        "\n"
      ]
    },
    {
      "cell_type": "code",
      "execution_count": 19,
      "metadata": {
        "id": "Lf5QVC8xXrv6"
      },
      "outputs": [],
      "source": [
        "columns_to_drop = ['weight', 'citoglipton', 'examide']\n",
        "#'payer_code','medical_specialty',\n",
        "df_1 = df.filter(col('diag_1')!=\"?\").filter(col('diag_2')!=\"?\").filter(col('diag_3')!=\"?\").\\\n",
        "       filter(col('gender')!=\"Unknown/Invalid\").filter(col(\"race\")!=\"?\").drop(*columns_to_drop)"
      ]
    },
    {
      "cell_type": "code",
      "execution_count": 20,
      "metadata": {
        "colab": {
          "base_uri": "https://localhost:8080/"
        },
        "id": "J-EMflMztuQz",
        "outputId": "6d850483-bc4d-457e-c6cf-a2e9301effc1"
      },
      "outputs": [
        {
          "output_type": "stream",
          "name": "stdout",
          "text": [
            "La base contiene 98052 filas y  47 columnas\n",
            "+------------+-----------+----+------+---+-----------------+------------------------+-------------------+----------------+-----------------+-----------------+------------------+--------------+---------------+-----------------+----------------+----------------+------+------+------+----------------+-------------+---------+---------+-----------+-----------+--------------+-----------+-------------+---------+---------+-----------+------------+-------------+--------+--------+------------+----------+-------+-------------------+-------------------+------------------------+-----------------------+----------------------+------+-----------+----------+\n",
            "|encounter_id|patient_nbr|race|gender|age|admission_type_id|discharge_disposition_id|admission_source_id|time_in_hospital|       payer_code|medical_specialty|num_lab_procedures|num_procedures|num_medications|number_outpatient|number_emergency|number_inpatient|diag_1|diag_2|diag_3|number_diagnoses|max_glu_serum|A1Cresult|metformin|repaglinide|nateglinide|chlorpropamide|glimepiride|acetohexamide|glipizide|glyburide|tolbutamide|pioglitazone|rosiglitazone|acarbose|miglitol|troglitazone|tolazamide|insulin|glyburide-metformin|glipizide-metformin|glimepiride-pioglitazone|metformin-rosiglitazone|metformin-pioglitazone|change|diabetesMed|readmitted|\n",
            "+------------+-----------+----+------+---+-----------------+------------------------+-------------------+----------------+-----------------+-----------------+------------------+--------------+---------------+-----------------+----------------+----------------+------+------+------+----------------+-------------+---------+---------+-----------+-----------+--------------+-----------+-------------+---------+---------+-----------+------------+-------------+--------+--------+------------+----------+-------+-------------------+-------------------+------------------------+-----------------------+----------------------+------+-----------+----------+\n",
            "|         0.0|        0.0| 0.0|   0.0|0.0|              0.0|                     0.0|                0.0|             0.0|39.69628360461796|49.27793415738588|               0.0|           0.0|            0.0|              0.0|             0.0|             0.0|   0.0|   0.0|   0.0|             0.0|          0.0|      0.0|      0.0|        0.0|        0.0|           0.0|        0.0|          0.0|      0.0|      0.0|        0.0|         0.0|          0.0|     0.0|     0.0|         0.0|       0.0|    0.0|                0.0|                0.0|                     0.0|                    0.0|                   0.0|   0.0|        0.0|       0.0|\n",
            "+------------+-----------+----+------+---+-----------------+------------------------+-------------------+----------------+-----------------+-----------------+------------------+--------------+---------------+-----------------+----------------+----------------+------+------+------+----------------+-------------+---------+---------+-----------+-----------+--------------+-----------+-------------+---------+---------+-----------+------------+-------------+--------+--------+------------+----------+-------+-------------------+-------------------+------------------------+-----------------------+----------------------+------+-----------+----------+\n",
            "\n"
          ]
        }
      ],
      "source": [
        "# Vaerificación de sustitución de Missings\n",
        "print('La base contiene '+str(df_1.count())+' filas y ',str(len(df_1.columns))+' columnas')\n",
        "\n",
        "df_1.select([(100*count(when(col(c)==\"?\", c))/df_1.count()).alias(c) for c in df_1.columns]).show() "
      ]
    },
    {
      "cell_type": "markdown",
      "metadata": {
        "id": "vckSgxWW1YrO"
      },
      "source": [
        "## Clasificación de categorías\n",
        "Se observa la presencia de una gran cantidad de categorias por variables, así que se procede a unificar en categorias más generales.\n"
      ]
    },
    {
      "cell_type": "code",
      "execution_count": 21,
      "metadata": {
        "id": "JJkjrJQX13GD"
      },
      "outputs": [],
      "source": [
        "\n",
        "# Crear copya de base para analizar\n",
        "base = df_1"
      ]
    },
    {
      "cell_type": "markdown",
      "metadata": {
        "id": "iEGAjEL3dhgV"
      },
      "source": [
        " **readmitted   (TARGET)**\n",
        "---\n",
        "Se busca analizar si el paciente es readmitido en el hospital dentro de los 30 días o no. La variable ```readmitted``` contiene las categorías:\n",
        "-   \"<30\"\n",
        "-   \"> 30\" \n",
        "-   NO. \n",
        "\n",
        "Para reducir el análisis a una clasificación binaria, se combina la readmisión después de 30 días y la no readmisión en una sola categoría, es decir:\n",
        "1: El paciente No es readmitido\n",
        "2: El paciente es readmitido\n",
        "\n",
        " **medical_specialty**\n",
        "---\n",
        "Se reclasifican las categorias por especialidad.\n",
        "\n",
        " **Age** \n",
        "---\n",
        "Se reclasifican las categorias por especialidad, bajo el supuesto de que las personas mayores pueden presentar mayor caso de diabetes\n",
        "\n",
        "\n",
        " **discharge_disposition_id**\n",
        "---\n",
        "Se realiza inicialmente una re-clasificación según conocimiento de negocio sin embargo dada la alta concentración de población en las categorias:\n",
        "\n",
        "- 1: Discharged to home\n",
        "- 3: Discharged/transferred to SNF\n",
        "- 6: Discharged/transferred to home with home health service\n",
        "\n",
        "se decide realizar un analisis de Información Value, buscando la mejor agrupación y se decide agrupar las restantes categorias en una única, llamada \"others\".\n",
        "\n",
        "\n",
        " **admission_source_id**\n",
        "---\n",
        "Se realiza inicialmente una re-clasificación según conocimiento de negocio sin embargo dada la alta concentración de población en las categorias:\n",
        "\n",
        "- 7: Emergency Room\n",
        "- 1:  Physician Referral\n",
        "- Other\n",
        "\n",
        " **admission_type_id**\n",
        "---\n",
        "Las categorias 4, 5, 6, 8, se agrupan en una misma categoria\n",
        "\n",
        " **Variables Genericas***\n",
        "---\n",
        "Para las variables genericas indicadoras del comportamiento de la dosis en el paciente, se decide agrupar la información para cada categoria relacionada.\n",
        "\n",
        "\n",
        "**Observación:**  \n",
        "\n",
        "Para las variables ```payer_code```,```diag_1```,```diag_2```,```diag_3```, se observa una cantidad significativa de categorias sin una estructura clara de negocio que permita realizar una agrupación, por lo que deciden eliminarse de la base de trabajo.\n",
        "\n",
        "\n"
      ]
    },
    {
      "cell_type": "code",
      "execution_count": 22,
      "metadata": {
        "id": "YZBUw-dxN_jJ"
      },
      "outputs": [],
      "source": [
        "# Readmitted  \n",
        "no_readmit = ['NO', '>30']  #0\n",
        "\n",
        "# medical_specialty\n",
        "cardiology = ['Cardiology-Pediatric']\n",
        "orthopedics = ['Orthopedics-Reconstructive','Osteopath']\n",
        "pediatrics = ['Pediatrics-AllergyandImmunology','Pediatrics-CriticalCare','Pediatrics-EmergencyMedicine','Pediatrics-Endocrinology',\n",
        "              'Pediatrics-Hematology-Oncology','Pediatrics-InfectiousDiseases','Pediatrics-Neurology', 'Pediatrics-Pulmonology']\n",
        "neuro = ['Neurology','Neurophysiology','Psychiatry-Addictive','Psychiatry-Child/Adolescent','Psychology','Psychiatry']\n",
        "surgery = ['Surgeon','Surgery-Cardiovascular','Surgery-Cardiovascular/Thoracic','Surgery-Colon&Rectal',\n",
        "                                     'Surgery-General','Surgery-Maxillofacial','Surgery-Neuro','Surgery-Pediatric','Surgery-Plastic',\n",
        "                                     'Surgery-PlasticwithinHeadandNeck','Surgery-Thoracic','Surgery-Vascular','SurgicalSpecialty']\n",
        "gynecology = ['Obsterics&Gynecology-GynecologicOnco','Obstetrics','ObstetricsandGynecology']\n",
        "radiology =['Radiology', 'Radiologist']\n",
        "internal_medicine = ['InternalMedicine']\n",
        "emergency_trauma =['Emergency/Trauma'],\n",
        "family_general = ['Family/GeneralPractice']\n",
        "no_informed = ['?']\n",
        "\n",
        "# age\n",
        "group_0_29 = ['[0-10)','[10-20)','[20-30)']\n",
        "group_30_59 = ['[30-40)','[40-50)','[50-60)']\n",
        "group_may_80 = ['[80-90)','[90-100)']\n",
        "\n",
        "# discharge_disposition_id\n",
        "#discharge_disp = [1,3,6]\n",
        "\n",
        "# Variables Genericas\n",
        "generical_feature = ['metformin', 'repaglinide', 'nateglinide', 'chlorpropamide', 'glimepiride', 'acetohexamide',  \t\n",
        "                     'glipizide', 'glyburide', 'tolbutamide', 'pioglitazone', 'rosiglitazone', 'acarbose', 'miglitol', \n",
        "                     'troglitazone', 'tolazamide', 'insulin', 'glyburide-metformin', 'glipizide-metformin',\n",
        "                     'glimepiride-pioglitazone', 'metformin-rosiglitazone', 'metformin-pioglitazone'] \n"
      ]
    },
    {
      "cell_type": "code",
      "execution_count": 23,
      "metadata": {
        "id": "Wep6N7J327NT"
      },
      "outputs": [],
      "source": [
        "\n",
        "base1 = base.select('*', \n",
        "         when(col('readmitted').isin(no_readmit),lit(\"0\")).otherwise(lit(\"1\")).alias('target'), \n",
        "        \n",
        "       when(col(\"medical_specialty\").isin(\"?\"), lit(\"no_informed\"))\\\n",
        "        .when(col(\"medical_specialty\").isin(\"Family/GeneralPractice\"), lit(\"family_general\"))\\\n",
        "        .when(col(\"medical_specialty\").isin('Emergency/Trauma'), lit(\"emergency_trauma\"))\\\n",
        "        .when(col(\"medical_specialty\").isin('InternalMedicine'), lit(\"internal_medicine\"))\\\n",
        "        .when(col(\"medical_specialty\").isin(radiology), lit(\"radiology\"))\\\n",
        "        .when(col(\"medical_specialty\").isin(gynecology), lit(\"gynecology\"))\\\n",
        "        .when(col(\"medical_specialty\").isin(surgery), lit(\"surgery\"))\\\n",
        "        .when(col(\"medical_specialty\").isin(neuro), lit(\"neuro\"))\\\n",
        "        .when(col(\"medical_specialty\").isin(pediatrics), lit(\"pediatrics\"))\\\n",
        "        .when(col(\"medical_specialty\").isin(orthopedics), lit(\"orthopedics\"))\\\n",
        "        .when(col(\"medical_specialty\").isin(cardiology), lit(\"cardiology\"))\\\n",
        "        .otherwise(lit(\"other\")).alias(\"medical_specialty_rs\"),\n",
        "\n",
        "        when(col(\"payer_code\")==\"?\", \"no_informed\").otherwise(col(\"payer_code\")).alias(\"payer_code\"),\n",
        "\n",
        "        when(col(\"age\").isin(group_0_29), lit(\"[0, 30)\"))\\\n",
        "        .when(col(\"age\").isin(group_30_59), lit(\"[30, 60)\"))\\\n",
        "        .when(col(\"age\") == \"[60-70)\", lit(\"[60-70)\"))\\\n",
        "        .when(col(\"age\") == \"[70-80)\", lit(\"[70-80)\"))\\\n",
        "        .otherwise(\"[80-100)\").alias(\"age_rs\"),\n",
        "\n",
        "        when(col(\"discharge_disposition_id\") == \"1\", lit(\"discharged_to_home\"))\\\n",
        "        .when(col(\"discharge_disposition_id\") == \"3\", lit(\"discharged/transferred_to_SNF\"))\\\n",
        "        .when(col(\"discharge_disposition_id\") == \"6\", lit(\"discharged/transferred__home_with_home_health\"))\\\n",
        "        .otherwise(lit(\"other\")).alias(\"discharge_disposition_id_rs\"),\n",
        "\n",
        "        when(col(\"admission_source_id\") == \"1\", lit(\"physician_referral\"))\\\n",
        "        .when(col(\"admission_source_id\") == \"7\", lit(\"emergency_room\"))\\\n",
        "        .otherwise(lit(\"other\")).alias(\"admission_source_id_rs\"),\n",
        "\n",
        "        when(col(\"admission_type_id\")==\"1\", lit(\"emergency\"))\\\n",
        "        .when(col(\"admission_type_id\")==\"2\", lit(\"urgent\"))\\\n",
        "        .when(col(\"admission_type_id\")==\"3\", lit(\"elective\"))\\\n",
        "        .when(col(\"admission_type_id\")==\"7\", lit(\"trauma_center\"))\\\n",
        "        .otherwise(lit(\"other\")).alias(\"admission_type_id_rs\"),\n",
        "\n",
        "\n",
        "\n",
        "        \n",
        "        \n",
        "\n",
        "\n",
        "              ).drop(\"medical_specialty\", \"age\", \"readmitted\", \"discharge_disposition_id\", \"admission_source_id\",\n",
        "                     \"payer_code\", \"diag_1\", \"diag_2\", \"diag_3\",\"encounter_id\",\t\"patient_nbr\", 'admission_type_id_rs')\n"
      ]
    },
    {
      "cell_type": "code",
      "execution_count": 24,
      "metadata": {
        "colab": {
          "base_uri": "https://localhost:8080/"
        },
        "id": "q8wbhdBpcQ-_",
        "outputId": "0aae33a9-0792-4fc6-b2f9-34ba5815adb2"
      },
      "outputs": [
        {
          "output_type": "stream",
          "name": "stdout",
          "text": [
            "+---------------+------+-----------------+----------------+------------------+--------------+---------------+-----------------+----------------+----------------+----------------+-------------+---------+---------+-----------+-----------+--------------+-----------+-------------+---------+---------+-----------+------------+-------------+--------+--------+------------+----------+-------+-------------------+-------------------+------------------------+-----------------------+----------------------+------+-----------+------+--------------------+--------+---------------------------+----------------------+\n",
            "|           race|gender|admission_type_id|time_in_hospital|num_lab_procedures|num_procedures|num_medications|number_outpatient|number_emergency|number_inpatient|number_diagnoses|max_glu_serum|A1Cresult|metformin|repaglinide|nateglinide|chlorpropamide|glimepiride|acetohexamide|glipizide|glyburide|tolbutamide|pioglitazone|rosiglitazone|acarbose|miglitol|troglitazone|tolazamide|insulin|glyburide-metformin|glipizide-metformin|glimepiride-pioglitazone|metformin-rosiglitazone|metformin-pioglitazone|change|diabetesMed|target|medical_specialty_rs|  age_rs|discharge_disposition_id_rs|admission_source_id_rs|\n",
            "+---------------+------+-----------------+----------------+------------------+--------------+---------------+-----------------+----------------+----------------+----------------+-------------+---------+---------+-----------+-----------+--------------+-----------+-------------+---------+---------+-----------+------------+-------------+--------+--------+------------+----------+-------+-------------------+-------------------+------------------------+-----------------------+----------------------+------+-----------+------+--------------------+--------+---------------------------+----------------------+\n",
            "|      Caucasian|Female|                6|             5.0|              54.0|           1.0|           15.0|              0.0|             0.0|             0.0|             8.0|         None|       >8|       No|         No|         No|            No|         No|           No|       No|       No|         No|          No|           No|      No|      No|          No|        No| Steady|                 No|                 No|                      No|                     No|                    No|    No|        Yes|     0|         orthopedics|[80-100)|                      other|    physician_referral|\n",
            "|      Caucasian|  Male|                6|             9.0|              65.0|           5.0|           28.0|              0.0|             0.0|             0.0|             7.0|         None|     None|       No|         No|         No|            No|         No|           No|       No|       No|         No|          No|           No|      No|      No|          No|        No| Steady|                 No|                 No|                      No|                     No|                    No|    No|        Yes|     0|   internal_medicine|[30, 60)|                      other|        emergency_room|\n",
            "|      Caucasian|  Male|                1|             8.0|              65.0|           3.0|           23.0|              0.0|             0.0|             0.0|             8.0|         None|     None|       No|         No|         No|            No|         No|           No|       No|       Up|         No|          No|           No|      No|      No|          No|        No| Steady|                 No|                 No|                      No|                     No|                    No|    Ch|        Yes|     1|               other| [70-80)|       discharged/transf...|        emergency_room|\n",
            "|      Caucasian|Female|                6|             5.0|              70.0|           0.0|            9.0|              0.0|             0.0|             0.0|             5.0|         None|     None|       No|         No|         No|            No|         No|           No|       No|       No|         No|          No|           No|      No|      No|          No|        No| Steady|                 No|                 No|                      No|                     No|                    No|    No|        Yes|     0|               other| [60-70)|                      other|    physician_referral|\n",
            "|      Caucasian|Female|                1|             1.0|              38.0|           0.0|            6.0|              0.0|             0.0|             0.0|             3.0|         None|     None|       No|         No|         No|            No|         No|           No|       No|   Steady|         No|      Steady|           No|      No|      No|          No|        No|     No|                 No|                 No|                      No|                     No|                    No|    Ch|        Yes|     1|      family_general|[30, 60)|         discharged_to_home|        emergency_room|\n",
            "|      Caucasian|  Male|                2|            10.0|              41.0|           0.0|           11.0|              0.0|             0.0|             1.0|             9.0|         None|     None|       No|         No|         No|            No|         No|           No|       No|       No|         No|          No|           No|      No|      No|          No|        No|     No|                 No|                 No|                      No|                     No|                    No|    No|         No|     0|   internal_medicine|[30, 60)|       discharged/transf...|    physician_referral|\n",
            "|      Caucasian|  Male|                2|             3.0|              22.0|           0.0|            9.0|              0.0|             0.0|             0.0|             6.0|         None|     None|       No|         No|         No|            No|         No|           No|       No|       No|         No|          No|           No|      No|      No|          No|        No|     No|                 No|                 No|                      No|                     No|                    No|    No|         No|     1|               neuro| [70-80)|                      other|    physician_referral|\n",
            "|AfricanAmerican|  Male|                1|             5.0|              60.0|           0.0|           14.0|              0.0|             0.0|             0.0|             4.0|         None|       >8|   Steady|         No|         No|            No|         No|           No|       Up|       No|         No|          No|           No|      No|      No|          No|        No|   Down|                 No|                 No|                      No|                     No|                    No|    Ch|        Yes|     0|   internal_medicine|[30, 60)|         discharged_to_home|        emergency_room|\n",
            "|      Caucasian|Female|                1|            13.0|              77.0|           0.0|           24.0|              0.0|             0.0|             2.0|             9.0|         None|     None|       No|         No|         No|            No|         No|           No|       No|       No|         No|          No|           No|      No|      No|          No|        No| Steady|                 No|                 No|                      No|                     No|                    No|    No|        Yes|     0|               other|[30, 60)|         discharged_to_home|        emergency_room|\n",
            "|AfricanAmerican|  Male|                2|             3.0|              37.0|           5.0|           17.0|              0.0|             0.0|             0.0|             7.0|         None|     None|       No|         No|         No|            No|         No|           No|       No|       No|         No|          No|           No|      No|      No|          No|        No| Steady|                 No|                 No|                      No|                     No|                    No|    No|        Yes|     0|               other|[30, 60)|         discharged_to_home|    physician_referral|\n",
            "|      Caucasian|  Male|                3|             1.0|              20.0|           2.0|            9.0|              0.0|             0.0|             0.0|             4.0|         None|     None|   Steady|         No|         No|            No|         No|           No|   Steady|       No|         No|          No|           No|      No|      No|          No|        No|     No|                 No|                 No|                      No|                     No|                    No|    Ch|        Yes|     0|               other| [60-70)|         discharged_to_home|    physician_referral|\n",
            "|      Caucasian|  Male|                6|             5.0|              52.0|           5.0|           31.0|              0.0|             0.0|             0.0|             8.0|         None|     None|       No|         No|         No|            No|         No|           No|       No|       No|         No|      Steady|           No|      No|      No|          No|        No|     No|                 No|                 No|                      No|                     No|                    No|    No|        Yes|     0|         no_informed| [70-80)|         discharged_to_home|                 other|\n",
            "|      Caucasian|Female|                1|             1.0|              36.0|           0.0|            9.0|              0.0|             0.0|             0.0|             8.0|         None|       >8|       No|         No|         No|            No|         No|           No|       No|       No|         No|          No|           No|      No|      No|          No|        No|   Down|                 No|                 No|                      No|                     No|                    No|    Ch|        Yes|     0|      family_general|[80-100)|         discharged_to_home|        emergency_room|\n",
            "|      Caucasian|Female|                1|             2.0|              40.0|           0.0|            3.0|              0.0|             0.0|             0.0|             6.0|         None|     None|       No|         No|         No|            No|         No|           No|       No|       No|         No|          No|           No|      No|      No|          No|        No|     No|                 No|                 No|                      No|                     No|                    No|    No|         No|     0|      family_general|[30, 60)|         discharged_to_home|        emergency_room|\n",
            "|AfricanAmerican|  Male|                1|             4.0|              64.0|           0.0|            7.0|              0.0|             0.0|             0.0|             9.0|         None|     None|       No|         No|         No|            No|         No|           No|       No|       No|         No|          No|           No|      No|      No|          No|        No|   Down|                 No|                 No|                      No|                     No|                    No|    Ch|        Yes|     0|   internal_medicine|[30, 60)|         discharged_to_home|        emergency_room|\n",
            "|      Caucasian|  Male|                1|             1.0|              39.0|           0.0|            5.0|              0.0|             0.0|             0.0|             7.0|         None|     None|       No|         No|         No|            No|         No|           No|       No|       No|         No|          No|           No|      No|      No|          No|        No|     No|                 No|                 No|                      No|                     No|                    No|    No|         No|     0|         no_informed| [70-80)|         discharged_to_home|        emergency_room|\n",
            "|      Caucasian|  Male|                2|             2.0|              51.0|           1.0|           20.0|              0.0|             0.0|             0.0|             7.0|         None|     None|       No|         No|         No|            No|         No|           No|       No|       No|         No|          No|           No|      No|      No|          No|        No| Steady|                 No|                 No|                      No|                     No|                    No|    No|        Yes|     0|               other|[30, 60)|         discharged_to_home|        emergency_room|\n",
            "|      Caucasian|Female|                5|             5.0|              18.0|           1.0|           14.0|              0.0|             0.0|             0.0|             8.0|         >300|     None|       No|         No|         No|            No|         No|           No|       No|       No|         No|          No|           No|      No|      No|          No|        No| Steady|                 No|                 No|                      No|                     No|                    No|    No|        Yes|     0|         no_informed|[80-100)|       discharged/transf...|                 other|\n",
            "|      Caucasian|  Male|                1|             5.0|              53.0|           0.0|            7.0|              0.0|             0.0|             0.0|             3.0|         None|       >8|       No|         No|         No|            No|         No|           No|       No|       No|         No|          No|           No|      No|      No|          No|        No| Steady|                 No|                 No|                      No|                     No|                    No|    No|        Yes|     0|          pediatrics| [0, 30)|         discharged_to_home|        emergency_room|\n",
            "|AfricanAmerican|Female|                1|             9.0|              49.0|           1.0|           22.0|              7.0|             1.0|             2.0|             9.0|         None|     None|       No|         No|         No|            No|         No|           No|       No|       No|         No|          No|           No|      No|      No|          No|        No| Steady|                 No|                 No|                      No|                     No|                    No|    No|        Yes|     0|         no_informed| [70-80)|       discharged/transf...|        emergency_room|\n",
            "+---------------+------+-----------------+----------------+------------------+--------------+---------------+-----------------+----------------+----------------+----------------+-------------+---------+---------+-----------+-----------+--------------+-----------+-------------+---------+---------+-----------+------------+-------------+--------+--------+------------+----------+-------+-------------------+-------------------+------------------------+-----------------------+----------------------+------+-----------+------+--------------------+--------+---------------------------+----------------------+\n",
            "only showing top 20 rows\n",
            "\n"
          ]
        }
      ],
      "source": [
        "base1.show()"
      ]
    },
    {
      "cell_type": "code",
      "execution_count": 25,
      "metadata": {
        "colab": {
          "base_uri": "https://localhost:8080/"
        },
        "id": "hqWvrhh34TqF",
        "outputId": "2e98c00c-0419-4d88-fa90-0b08e643f6ff"
      },
      "outputs": [
        {
          "output_type": "stream",
          "name": "stdout",
          "text": [
            "root\n",
            " |-- race: string (nullable = true)\n",
            " |-- gender: string (nullable = true)\n",
            " |-- admission_type_id: string (nullable = true)\n",
            " |-- time_in_hospital: float (nullable = true)\n",
            " |-- num_lab_procedures: float (nullable = true)\n",
            " |-- num_procedures: float (nullable = true)\n",
            " |-- num_medications: float (nullable = true)\n",
            " |-- number_outpatient: float (nullable = true)\n",
            " |-- number_emergency: float (nullable = true)\n",
            " |-- number_inpatient: float (nullable = true)\n",
            " |-- number_diagnoses: float (nullable = true)\n",
            " |-- max_glu_serum: string (nullable = true)\n",
            " |-- A1Cresult: string (nullable = true)\n",
            " |-- metformin: string (nullable = true)\n",
            " |-- repaglinide: string (nullable = true)\n",
            " |-- nateglinide: string (nullable = true)\n",
            " |-- chlorpropamide: string (nullable = true)\n",
            " |-- glimepiride: string (nullable = true)\n",
            " |-- acetohexamide: string (nullable = true)\n",
            " |-- glipizide: string (nullable = true)\n",
            " |-- glyburide: string (nullable = true)\n",
            " |-- tolbutamide: string (nullable = true)\n",
            " |-- pioglitazone: string (nullable = true)\n",
            " |-- rosiglitazone: string (nullable = true)\n",
            " |-- acarbose: string (nullable = true)\n",
            " |-- miglitol: string (nullable = true)\n",
            " |-- troglitazone: string (nullable = true)\n",
            " |-- tolazamide: string (nullable = true)\n",
            " |-- insulin: string (nullable = true)\n",
            " |-- glyburide-metformin: string (nullable = true)\n",
            " |-- glipizide-metformin: string (nullable = true)\n",
            " |-- glimepiride-pioglitazone: string (nullable = true)\n",
            " |-- metformin-rosiglitazone: string (nullable = true)\n",
            " |-- metformin-pioglitazone: string (nullable = true)\n",
            " |-- change: string (nullable = true)\n",
            " |-- diabetesMed: string (nullable = true)\n",
            " |-- target: string (nullable = false)\n",
            " |-- medical_specialty_rs: string (nullable = false)\n",
            " |-- age_rs: string (nullable = false)\n",
            " |-- discharge_disposition_id_rs: string (nullable = false)\n",
            " |-- admission_source_id_rs: string (nullable = false)\n",
            "\n"
          ]
        }
      ],
      "source": [
        "base1.printSchema()"
      ]
    },
    {
      "cell_type": "code",
      "source": [
        "# Convertir a Pandas\n",
        "base_pd = base1.toPandas()"
      ],
      "metadata": {
        "id": "lH2ia4bp6QhH"
      },
      "execution_count": 26,
      "outputs": []
    },
    {
      "cell_type": "code",
      "source": [
        "def dosis_med(df):\n",
        "    df['steady'] = np.sum(df == \"Steady\")\n",
        "    df['no'] = np.sum(df == \"No\")\n",
        "    df['up'] = np.sum(df =='Up')\n",
        "    df['down'] = np.sum(df =='Down')\n",
        "    return df"
      ],
      "metadata": {
        "id": "g-VvBeE36afD"
      },
      "execution_count": 27,
      "outputs": []
    },
    {
      "cell_type": "code",
      "source": [
        "# Agregación de variables genericas\n",
        "\n",
        "df_gen = base_pd[generical_feature]\n",
        "df_gen = df_gen.apply(dosis_med, axis = 1)\n",
        "df_gen.head()"
      ],
      "metadata": {
        "id": "vj9J_fGA7BBm",
        "colab": {
          "base_uri": "https://localhost:8080/",
          "height": 288
        },
        "outputId": "40d4d788-efc0-49cf-cdd5-2df9087b6cb8"
      },
      "execution_count": 28,
      "outputs": [
        {
          "output_type": "execute_result",
          "data": {
            "text/html": [
              "\n",
              "  <div id=\"df-3f754b54-12ba-4ff0-9cfe-a4d81a1f6a03\">\n",
              "    <div class=\"colab-df-container\">\n",
              "      <div>\n",
              "<style scoped>\n",
              "    .dataframe tbody tr th:only-of-type {\n",
              "        vertical-align: middle;\n",
              "    }\n",
              "\n",
              "    .dataframe tbody tr th {\n",
              "        vertical-align: top;\n",
              "    }\n",
              "\n",
              "    .dataframe thead th {\n",
              "        text-align: right;\n",
              "    }\n",
              "</style>\n",
              "<table border=\"1\" class=\"dataframe\">\n",
              "  <thead>\n",
              "    <tr style=\"text-align: right;\">\n",
              "      <th></th>\n",
              "      <th>metformin</th>\n",
              "      <th>repaglinide</th>\n",
              "      <th>nateglinide</th>\n",
              "      <th>chlorpropamide</th>\n",
              "      <th>glimepiride</th>\n",
              "      <th>acetohexamide</th>\n",
              "      <th>glipizide</th>\n",
              "      <th>glyburide</th>\n",
              "      <th>tolbutamide</th>\n",
              "      <th>pioglitazone</th>\n",
              "      <th>rosiglitazone</th>\n",
              "      <th>acarbose</th>\n",
              "      <th>miglitol</th>\n",
              "      <th>troglitazone</th>\n",
              "      <th>tolazamide</th>\n",
              "      <th>insulin</th>\n",
              "      <th>glyburide-metformin</th>\n",
              "      <th>glipizide-metformin</th>\n",
              "      <th>glimepiride-pioglitazone</th>\n",
              "      <th>metformin-rosiglitazone</th>\n",
              "      <th>metformin-pioglitazone</th>\n",
              "      <th>steady</th>\n",
              "      <th>no</th>\n",
              "      <th>up</th>\n",
              "      <th>down</th>\n",
              "    </tr>\n",
              "  </thead>\n",
              "  <tbody>\n",
              "    <tr>\n",
              "      <th>0</th>\n",
              "      <td>No</td>\n",
              "      <td>No</td>\n",
              "      <td>No</td>\n",
              "      <td>No</td>\n",
              "      <td>No</td>\n",
              "      <td>No</td>\n",
              "      <td>No</td>\n",
              "      <td>No</td>\n",
              "      <td>No</td>\n",
              "      <td>No</td>\n",
              "      <td>No</td>\n",
              "      <td>No</td>\n",
              "      <td>No</td>\n",
              "      <td>No</td>\n",
              "      <td>No</td>\n",
              "      <td>Steady</td>\n",
              "      <td>No</td>\n",
              "      <td>No</td>\n",
              "      <td>No</td>\n",
              "      <td>No</td>\n",
              "      <td>No</td>\n",
              "      <td>1</td>\n",
              "      <td>20</td>\n",
              "      <td>0</td>\n",
              "      <td>0</td>\n",
              "    </tr>\n",
              "    <tr>\n",
              "      <th>1</th>\n",
              "      <td>No</td>\n",
              "      <td>No</td>\n",
              "      <td>No</td>\n",
              "      <td>No</td>\n",
              "      <td>No</td>\n",
              "      <td>No</td>\n",
              "      <td>No</td>\n",
              "      <td>No</td>\n",
              "      <td>No</td>\n",
              "      <td>No</td>\n",
              "      <td>No</td>\n",
              "      <td>No</td>\n",
              "      <td>No</td>\n",
              "      <td>No</td>\n",
              "      <td>No</td>\n",
              "      <td>Steady</td>\n",
              "      <td>No</td>\n",
              "      <td>No</td>\n",
              "      <td>No</td>\n",
              "      <td>No</td>\n",
              "      <td>No</td>\n",
              "      <td>1</td>\n",
              "      <td>20</td>\n",
              "      <td>0</td>\n",
              "      <td>0</td>\n",
              "    </tr>\n",
              "    <tr>\n",
              "      <th>2</th>\n",
              "      <td>No</td>\n",
              "      <td>No</td>\n",
              "      <td>No</td>\n",
              "      <td>No</td>\n",
              "      <td>No</td>\n",
              "      <td>No</td>\n",
              "      <td>No</td>\n",
              "      <td>Up</td>\n",
              "      <td>No</td>\n",
              "      <td>No</td>\n",
              "      <td>No</td>\n",
              "      <td>No</td>\n",
              "      <td>No</td>\n",
              "      <td>No</td>\n",
              "      <td>No</td>\n",
              "      <td>Steady</td>\n",
              "      <td>No</td>\n",
              "      <td>No</td>\n",
              "      <td>No</td>\n",
              "      <td>No</td>\n",
              "      <td>No</td>\n",
              "      <td>1</td>\n",
              "      <td>19</td>\n",
              "      <td>1</td>\n",
              "      <td>0</td>\n",
              "    </tr>\n",
              "    <tr>\n",
              "      <th>3</th>\n",
              "      <td>No</td>\n",
              "      <td>No</td>\n",
              "      <td>No</td>\n",
              "      <td>No</td>\n",
              "      <td>No</td>\n",
              "      <td>No</td>\n",
              "      <td>No</td>\n",
              "      <td>No</td>\n",
              "      <td>No</td>\n",
              "      <td>No</td>\n",
              "      <td>No</td>\n",
              "      <td>No</td>\n",
              "      <td>No</td>\n",
              "      <td>No</td>\n",
              "      <td>No</td>\n",
              "      <td>Steady</td>\n",
              "      <td>No</td>\n",
              "      <td>No</td>\n",
              "      <td>No</td>\n",
              "      <td>No</td>\n",
              "      <td>No</td>\n",
              "      <td>1</td>\n",
              "      <td>20</td>\n",
              "      <td>0</td>\n",
              "      <td>0</td>\n",
              "    </tr>\n",
              "    <tr>\n",
              "      <th>4</th>\n",
              "      <td>No</td>\n",
              "      <td>No</td>\n",
              "      <td>No</td>\n",
              "      <td>No</td>\n",
              "      <td>No</td>\n",
              "      <td>No</td>\n",
              "      <td>No</td>\n",
              "      <td>Steady</td>\n",
              "      <td>No</td>\n",
              "      <td>Steady</td>\n",
              "      <td>No</td>\n",
              "      <td>No</td>\n",
              "      <td>No</td>\n",
              "      <td>No</td>\n",
              "      <td>No</td>\n",
              "      <td>No</td>\n",
              "      <td>No</td>\n",
              "      <td>No</td>\n",
              "      <td>No</td>\n",
              "      <td>No</td>\n",
              "      <td>No</td>\n",
              "      <td>2</td>\n",
              "      <td>19</td>\n",
              "      <td>0</td>\n",
              "      <td>0</td>\n",
              "    </tr>\n",
              "  </tbody>\n",
              "</table>\n",
              "</div>\n",
              "      <button class=\"colab-df-convert\" onclick=\"convertToInteractive('df-3f754b54-12ba-4ff0-9cfe-a4d81a1f6a03')\"\n",
              "              title=\"Convert this dataframe to an interactive table.\"\n",
              "              style=\"display:none;\">\n",
              "        \n",
              "  <svg xmlns=\"http://www.w3.org/2000/svg\" height=\"24px\"viewBox=\"0 0 24 24\"\n",
              "       width=\"24px\">\n",
              "    <path d=\"M0 0h24v24H0V0z\" fill=\"none\"/>\n",
              "    <path d=\"M18.56 5.44l.94 2.06.94-2.06 2.06-.94-2.06-.94-.94-2.06-.94 2.06-2.06.94zm-11 1L8.5 8.5l.94-2.06 2.06-.94-2.06-.94L8.5 2.5l-.94 2.06-2.06.94zm10 10l.94 2.06.94-2.06 2.06-.94-2.06-.94-.94-2.06-.94 2.06-2.06.94z\"/><path d=\"M17.41 7.96l-1.37-1.37c-.4-.4-.92-.59-1.43-.59-.52 0-1.04.2-1.43.59L10.3 9.45l-7.72 7.72c-.78.78-.78 2.05 0 2.83L4 21.41c.39.39.9.59 1.41.59.51 0 1.02-.2 1.41-.59l7.78-7.78 2.81-2.81c.8-.78.8-2.07 0-2.86zM5.41 20L4 18.59l7.72-7.72 1.47 1.35L5.41 20z\"/>\n",
              "  </svg>\n",
              "      </button>\n",
              "      \n",
              "  <style>\n",
              "    .colab-df-container {\n",
              "      display:flex;\n",
              "      flex-wrap:wrap;\n",
              "      gap: 12px;\n",
              "    }\n",
              "\n",
              "    .colab-df-convert {\n",
              "      background-color: #E8F0FE;\n",
              "      border: none;\n",
              "      border-radius: 50%;\n",
              "      cursor: pointer;\n",
              "      display: none;\n",
              "      fill: #1967D2;\n",
              "      height: 32px;\n",
              "      padding: 0 0 0 0;\n",
              "      width: 32px;\n",
              "    }\n",
              "\n",
              "    .colab-df-convert:hover {\n",
              "      background-color: #E2EBFA;\n",
              "      box-shadow: 0px 1px 2px rgba(60, 64, 67, 0.3), 0px 1px 3px 1px rgba(60, 64, 67, 0.15);\n",
              "      fill: #174EA6;\n",
              "    }\n",
              "\n",
              "    [theme=dark] .colab-df-convert {\n",
              "      background-color: #3B4455;\n",
              "      fill: #D2E3FC;\n",
              "    }\n",
              "\n",
              "    [theme=dark] .colab-df-convert:hover {\n",
              "      background-color: #434B5C;\n",
              "      box-shadow: 0px 1px 3px 1px rgba(0, 0, 0, 0.15);\n",
              "      filter: drop-shadow(0px 1px 2px rgba(0, 0, 0, 0.3));\n",
              "      fill: #FFFFFF;\n",
              "    }\n",
              "  </style>\n",
              "\n",
              "      <script>\n",
              "        const buttonEl =\n",
              "          document.querySelector('#df-3f754b54-12ba-4ff0-9cfe-a4d81a1f6a03 button.colab-df-convert');\n",
              "        buttonEl.style.display =\n",
              "          google.colab.kernel.accessAllowed ? 'block' : 'none';\n",
              "\n",
              "        async function convertToInteractive(key) {\n",
              "          const element = document.querySelector('#df-3f754b54-12ba-4ff0-9cfe-a4d81a1f6a03');\n",
              "          const dataTable =\n",
              "            await google.colab.kernel.invokeFunction('convertToInteractive',\n",
              "                                                     [key], {});\n",
              "          if (!dataTable) return;\n",
              "\n",
              "          const docLinkHtml = 'Like what you see? Visit the ' +\n",
              "            '<a target=\"_blank\" href=https://colab.research.google.com/notebooks/data_table.ipynb>data table notebook</a>'\n",
              "            + ' to learn more about interactive tables.';\n",
              "          element.innerHTML = '';\n",
              "          dataTable['output_type'] = 'display_data';\n",
              "          await google.colab.output.renderOutput(dataTable, element);\n",
              "          const docLink = document.createElement('div');\n",
              "          docLink.innerHTML = docLinkHtml;\n",
              "          element.appendChild(docLink);\n",
              "        }\n",
              "      </script>\n",
              "    </div>\n",
              "  </div>\n",
              "  "
            ],
            "text/plain": [
              "  metformin repaglinide nateglinide chlorpropamide glimepiride acetohexamide  \\\n",
              "0        No          No          No             No          No            No   \n",
              "1        No          No          No             No          No            No   \n",
              "2        No          No          No             No          No            No   \n",
              "3        No          No          No             No          No            No   \n",
              "4        No          No          No             No          No            No   \n",
              "\n",
              "  glipizide glyburide tolbutamide pioglitazone rosiglitazone acarbose  \\\n",
              "0        No        No          No           No            No       No   \n",
              "1        No        No          No           No            No       No   \n",
              "2        No        Up          No           No            No       No   \n",
              "3        No        No          No           No            No       No   \n",
              "4        No    Steady          No       Steady            No       No   \n",
              "\n",
              "  miglitol troglitazone tolazamide insulin glyburide-metformin  \\\n",
              "0       No           No         No  Steady                  No   \n",
              "1       No           No         No  Steady                  No   \n",
              "2       No           No         No  Steady                  No   \n",
              "3       No           No         No  Steady                  No   \n",
              "4       No           No         No      No                  No   \n",
              "\n",
              "  glipizide-metformin glimepiride-pioglitazone metformin-rosiglitazone  \\\n",
              "0                  No                       No                      No   \n",
              "1                  No                       No                      No   \n",
              "2                  No                       No                      No   \n",
              "3                  No                       No                      No   \n",
              "4                  No                       No                      No   \n",
              "\n",
              "  metformin-pioglitazone  steady  no  up  down  \n",
              "0                     No       1  20   0     0  \n",
              "1                     No       1  20   0     0  \n",
              "2                     No       1  19   1     0  \n",
              "3                     No       1  20   0     0  \n",
              "4                     No       2  19   0     0  "
            ]
          },
          "metadata": {},
          "execution_count": 28
        }
      ]
    },
    {
      "cell_type": "code",
      "source": [
        "for i in df_gen[['steady', 'up', \"down\", 'no']].columns:\n",
        "    #print(i, df[i].unique(), \"\\n\")\n",
        "    plt.figure(figsize=(5,5))\n",
        "    ax = df_gen[i].value_counts().plot.bar()\n",
        "    plt.title(str(i))\n",
        "    plt.ylabel('Number of Occurrences', fontsize=12)\n",
        "    plt.xlabel('Carrier', fontsize=12)\n",
        "    plt.show()"
      ],
      "metadata": {
        "colab": {
          "base_uri": "https://localhost:8080/",
          "height": 1000
        },
        "id": "G1CZBmG27muX",
        "outputId": "f0288050-8055-45ab-d0cb-4c8a59558360"
      },
      "execution_count": 29,
      "outputs": [
        {
          "output_type": "display_data",
          "data": {
            "image/png": "[encoded data removed]",
            "text/plain": [
              "<Figure size 360x360 with 1 Axes>"
            ]
          },
          "metadata": {
            "needs_background": "light"
          }
        },
        {
          "output_type": "display_data",
          "data": {
            "image/png": "[encoded data removed]",
            "text/plain": [
              "<Figure size 360x360 with 1 Axes>"
            ]
          },
          "metadata": {
            "needs_background": "light"
          }
        },
        {
          "output_type": "display_data",
          "data": {
            "image/png": "[encoded data removed]",
            "text/plain": [
              "<Figure size 360x360 with 1 Axes>"
            ]
          },
          "metadata": {
            "needs_background": "light"
          }
        },
        {
          "output_type": "display_data",
          "data": {
            "image/png": "[encoded data removed]",
            "text/plain": [
              "<Figure size 360x360 with 1 Axes>"
            ]
          },
          "metadata": {
            "needs_background": "light"
          }
        }
      ]
    },
    {
      "cell_type": "markdown",
      "source": [
        "Por el comportamiento observado en las variables genericas, se decide consolidar la información en variables dicotomicas que resuman la información de los medicamentos\n",
        "\n",
        "- ```steady```: La dosis se mantiene estable (1)\n",
        "-  ```up```: Aumento la dosis\n",
        "-  ```down```: disminuyo la dosis\n",
        "-  ```no```: No se receto el medicamento"
      ],
      "metadata": {
        "id": "AaVzOZ4YBJeA"
      }
    },
    {
      "cell_type": "code",
      "source": [
        "df_gen[\"steady\"] = np.where(df_gen[\"steady\"] == 0, \"0\", \"1\")\n",
        "df_gen[\"up\"] = np.where(df_gen[\"up\"] == 0, \"0\", \"1\")\n",
        "df_gen[\"down\"] = np.where(df_gen[\"down\"] == 0, \"0\", \"1\")\n",
        "df_gen[\"no\"] = np.where(df_gen[\"no\"] == 0, \"0\", \"1\")\n"
      ],
      "metadata": {
        "id": "gzhcahL3BIyS"
      },
      "execution_count": 30,
      "outputs": []
    },
    {
      "cell_type": "code",
      "source": [
        "# Consolidar Información de trabajo\n",
        "new_cols = df_gen[['steady', 'up', \"down\", 'no']]\n",
        "base_pd2 = pd.concat([base_pd, new_cols], axis = 1)\n",
        "base_pd2.drop(base_pd[generical_feature], axis = 1, inplace = True)\n",
        "base_pd2.head()"
      ],
      "metadata": {
        "id": "LkjtycscFDcI",
        "colab": {
          "base_uri": "https://localhost:8080/",
          "height": 322
        },
        "outputId": "b45b1ae1-c11a-4594-8434-0f787c559e95"
      },
      "execution_count": 31,
      "outputs": [
        {
          "output_type": "execute_result",
          "data": {
            "text/html": [
              "\n",
              "  <div id=\"df-ff73fff6-49fd-45a2-a6d9-c74606838a3b\">\n",
              "    <div class=\"colab-df-container\">\n",
              "      <div>\n",
              "<style scoped>\n",
              "    .dataframe tbody tr th:only-of-type {\n",
              "        vertical-align: middle;\n",
              "    }\n",
              "\n",
              "    .dataframe tbody tr th {\n",
              "        vertical-align: top;\n",
              "    }\n",
              "\n",
              "    .dataframe thead th {\n",
              "        text-align: right;\n",
              "    }\n",
              "</style>\n",
              "<table border=\"1\" class=\"dataframe\">\n",
              "  <thead>\n",
              "    <tr style=\"text-align: right;\">\n",
              "      <th></th>\n",
              "      <th>race</th>\n",
              "      <th>gender</th>\n",
              "      <th>admission_type_id</th>\n",
              "      <th>time_in_hospital</th>\n",
              "      <th>num_lab_procedures</th>\n",
              "      <th>num_procedures</th>\n",
              "      <th>num_medications</th>\n",
              "      <th>number_outpatient</th>\n",
              "      <th>number_emergency</th>\n",
              "      <th>number_inpatient</th>\n",
              "      <th>number_diagnoses</th>\n",
              "      <th>max_glu_serum</th>\n",
              "      <th>A1Cresult</th>\n",
              "      <th>change</th>\n",
              "      <th>diabetesMed</th>\n",
              "      <th>target</th>\n",
              "      <th>medical_specialty_rs</th>\n",
              "      <th>age_rs</th>\n",
              "      <th>discharge_disposition_id_rs</th>\n",
              "      <th>admission_source_id_rs</th>\n",
              "      <th>steady</th>\n",
              "      <th>up</th>\n",
              "      <th>down</th>\n",
              "      <th>no</th>\n",
              "    </tr>\n",
              "  </thead>\n",
              "  <tbody>\n",
              "    <tr>\n",
              "      <th>0</th>\n",
              "      <td>Caucasian</td>\n",
              "      <td>Female</td>\n",
              "      <td>6</td>\n",
              "      <td>5.0</td>\n",
              "      <td>54.0</td>\n",
              "      <td>1.0</td>\n",
              "      <td>15.0</td>\n",
              "      <td>0.0</td>\n",
              "      <td>0.0</td>\n",
              "      <td>0.0</td>\n",
              "      <td>8.0</td>\n",
              "      <td>None</td>\n",
              "      <td>&gt;8</td>\n",
              "      <td>No</td>\n",
              "      <td>Yes</td>\n",
              "      <td>0</td>\n",
              "      <td>orthopedics</td>\n",
              "      <td>[80-100)</td>\n",
              "      <td>other</td>\n",
              "      <td>physician_referral</td>\n",
              "      <td>1</td>\n",
              "      <td>0</td>\n",
              "      <td>0</td>\n",
              "      <td>1</td>\n",
              "    </tr>\n",
              "    <tr>\n",
              "      <th>1</th>\n",
              "      <td>Caucasian</td>\n",
              "      <td>Male</td>\n",
              "      <td>6</td>\n",
              "      <td>9.0</td>\n",
              "      <td>65.0</td>\n",
              "      <td>5.0</td>\n",
              "      <td>28.0</td>\n",
              "      <td>0.0</td>\n",
              "      <td>0.0</td>\n",
              "      <td>0.0</td>\n",
              "      <td>7.0</td>\n",
              "      <td>None</td>\n",
              "      <td>None</td>\n",
              "      <td>No</td>\n",
              "      <td>Yes</td>\n",
              "      <td>0</td>\n",
              "      <td>internal_medicine</td>\n",
              "      <td>[30, 60)</td>\n",
              "      <td>other</td>\n",
              "      <td>emergency_room</td>\n",
              "      <td>1</td>\n",
              "      <td>0</td>\n",
              "      <td>0</td>\n",
              "      <td>1</td>\n",
              "    </tr>\n",
              "    <tr>\n",
              "      <th>2</th>\n",
              "      <td>Caucasian</td>\n",
              "      <td>Male</td>\n",
              "      <td>1</td>\n",
              "      <td>8.0</td>\n",
              "      <td>65.0</td>\n",
              "      <td>3.0</td>\n",
              "      <td>23.0</td>\n",
              "      <td>0.0</td>\n",
              "      <td>0.0</td>\n",
              "      <td>0.0</td>\n",
              "      <td>8.0</td>\n",
              "      <td>None</td>\n",
              "      <td>None</td>\n",
              "      <td>Ch</td>\n",
              "      <td>Yes</td>\n",
              "      <td>1</td>\n",
              "      <td>other</td>\n",
              "      <td>[70-80)</td>\n",
              "      <td>discharged/transferred_to_SNF</td>\n",
              "      <td>emergency_room</td>\n",
              "      <td>1</td>\n",
              "      <td>1</td>\n",
              "      <td>0</td>\n",
              "      <td>1</td>\n",
              "    </tr>\n",
              "    <tr>\n",
              "      <th>3</th>\n",
              "      <td>Caucasian</td>\n",
              "      <td>Female</td>\n",
              "      <td>6</td>\n",
              "      <td>5.0</td>\n",
              "      <td>70.0</td>\n",
              "      <td>0.0</td>\n",
              "      <td>9.0</td>\n",
              "      <td>0.0</td>\n",
              "      <td>0.0</td>\n",
              "      <td>0.0</td>\n",
              "      <td>5.0</td>\n",
              "      <td>None</td>\n",
              "      <td>None</td>\n",
              "      <td>No</td>\n",
              "      <td>Yes</td>\n",
              "      <td>0</td>\n",
              "      <td>other</td>\n",
              "      <td>[60-70)</td>\n",
              "      <td>other</td>\n",
              "      <td>physician_referral</td>\n",
              "      <td>1</td>\n",
              "      <td>0</td>\n",
              "      <td>0</td>\n",
              "      <td>1</td>\n",
              "    </tr>\n",
              "    <tr>\n",
              "      <th>4</th>\n",
              "      <td>Caucasian</td>\n",
              "      <td>Female</td>\n",
              "      <td>1</td>\n",
              "      <td>1.0</td>\n",
              "      <td>38.0</td>\n",
              "      <td>0.0</td>\n",
              "      <td>6.0</td>\n",
              "      <td>0.0</td>\n",
              "      <td>0.0</td>\n",
              "      <td>0.0</td>\n",
              "      <td>3.0</td>\n",
              "      <td>None</td>\n",
              "      <td>None</td>\n",
              "      <td>Ch</td>\n",
              "      <td>Yes</td>\n",
              "      <td>1</td>\n",
              "      <td>family_general</td>\n",
              "      <td>[30, 60)</td>\n",
              "      <td>discharged_to_home</td>\n",
              "      <td>emergency_room</td>\n",
              "      <td>1</td>\n",
              "      <td>0</td>\n",
              "      <td>0</td>\n",
              "      <td>1</td>\n",
              "    </tr>\n",
              "  </tbody>\n",
              "</table>\n",
              "</div>\n",
              "      <button class=\"colab-df-convert\" onclick=\"convertToInteractive('df-ff73fff6-49fd-45a2-a6d9-c74606838a3b')\"\n",
              "              title=\"Convert this dataframe to an interactive table.\"\n",
              "              style=\"display:none;\">\n",
              "        \n",
              "  <svg xmlns=\"http://www.w3.org/2000/svg\" height=\"24px\"viewBox=\"0 0 24 24\"\n",
              "       width=\"24px\">\n",
              "    <path d=\"M0 0h24v24H0V0z\" fill=\"none\"/>\n",
              "    <path d=\"M18.56 5.44l.94 2.06.94-2.06 2.06-.94-2.06-.94-.94-2.06-.94 2.06-2.06.94zm-11 1L8.5 8.5l.94-2.06 2.06-.94-2.06-.94L8.5 2.5l-.94 2.06-2.06.94zm10 10l.94 2.06.94-2.06 2.06-.94-2.06-.94-.94-2.06-.94 2.06-2.06.94z\"/><path d=\"M17.41 7.96l-1.37-1.37c-.4-.4-.92-.59-1.43-.59-.52 0-1.04.2-1.43.59L10.3 9.45l-7.72 7.72c-.78.78-.78 2.05 0 2.83L4 21.41c.39.39.9.59 1.41.59.51 0 1.02-.2 1.41-.59l7.78-7.78 2.81-2.81c.8-.78.8-2.07 0-2.86zM5.41 20L4 18.59l7.72-7.72 1.47 1.35L5.41 20z\"/>\n",
              "  </svg>\n",
              "      </button>\n",
              "      \n",
              "  <style>\n",
              "    .colab-df-container {\n",
              "      display:flex;\n",
              "      flex-wrap:wrap;\n",
              "      gap: 12px;\n",
              "    }\n",
              "\n",
              "    .colab-df-convert {\n",
              "      background-color: #E8F0FE;\n",
              "      border: none;\n",
              "      border-radius: 50%;\n",
              "      cursor: pointer;\n",
              "      display: none;\n",
              "      fill: #1967D2;\n",
              "      height: 32px;\n",
              "      padding: 0 0 0 0;\n",
              "      width: 32px;\n",
              "    }\n",
              "\n",
              "    .colab-df-convert:hover {\n",
              "      background-color: #E2EBFA;\n",
              "      box-shadow: 0px 1px 2px rgba(60, 64, 67, 0.3), 0px 1px 3px 1px rgba(60, 64, 67, 0.15);\n",
              "      fill: #174EA6;\n",
              "    }\n",
              "\n",
              "    [theme=dark] .colab-df-convert {\n",
              "      background-color: #3B4455;\n",
              "      fill: #D2E3FC;\n",
              "    }\n",
              "\n",
              "    [theme=dark] .colab-df-convert:hover {\n",
              "      background-color: #434B5C;\n",
              "      box-shadow: 0px 1px 3px 1px rgba(0, 0, 0, 0.15);\n",
              "      filter: drop-shadow(0px 1px 2px rgba(0, 0, 0, 0.3));\n",
              "      fill: #FFFFFF;\n",
              "    }\n",
              "  </style>\n",
              "\n",
              "      <script>\n",
              "        const buttonEl =\n",
              "          document.querySelector('#df-ff73fff6-49fd-45a2-a6d9-c74606838a3b button.colab-df-convert');\n",
              "        buttonEl.style.display =\n",
              "          google.colab.kernel.accessAllowed ? 'block' : 'none';\n",
              "\n",
              "        async function convertToInteractive(key) {\n",
              "          const element = document.querySelector('#df-ff73fff6-49fd-45a2-a6d9-c74606838a3b');\n",
              "          const dataTable =\n",
              "            await google.colab.kernel.invokeFunction('convertToInteractive',\n",
              "                                                     [key], {});\n",
              "          if (!dataTable) return;\n",
              "\n",
              "          const docLinkHtml = 'Like what you see? Visit the ' +\n",
              "            '<a target=\"_blank\" href=https://colab.research.google.com/notebooks/data_table.ipynb>data table notebook</a>'\n",
              "            + ' to learn more about interactive tables.';\n",
              "          element.innerHTML = '';\n",
              "          dataTable['output_type'] = 'display_data';\n",
              "          await google.colab.output.renderOutput(dataTable, element);\n",
              "          const docLink = document.createElement('div');\n",
              "          docLink.innerHTML = docLinkHtml;\n",
              "          element.appendChild(docLink);\n",
              "        }\n",
              "      </script>\n",
              "    </div>\n",
              "  </div>\n",
              "  "
            ],
            "text/plain": [
              "        race  gender admission_type_id  time_in_hospital  num_lab_procedures  \\\n",
              "0  Caucasian  Female                 6               5.0                54.0   \n",
              "1  Caucasian    Male                 6               9.0                65.0   \n",
              "2  Caucasian    Male                 1               8.0                65.0   \n",
              "3  Caucasian  Female                 6               5.0                70.0   \n",
              "4  Caucasian  Female                 1               1.0                38.0   \n",
              "\n",
              "   num_procedures  num_medications  number_outpatient  number_emergency  \\\n",
              "0             1.0             15.0                0.0               0.0   \n",
              "1             5.0             28.0                0.0               0.0   \n",
              "2             3.0             23.0                0.0               0.0   \n",
              "3             0.0              9.0                0.0               0.0   \n",
              "4             0.0              6.0                0.0               0.0   \n",
              "\n",
              "   number_inpatient  number_diagnoses max_glu_serum A1Cresult change  \\\n",
              "0               0.0               8.0          None        >8     No   \n",
              "1               0.0               7.0          None      None     No   \n",
              "2               0.0               8.0          None      None     Ch   \n",
              "3               0.0               5.0          None      None     No   \n",
              "4               0.0               3.0          None      None     Ch   \n",
              "\n",
              "  diabetesMed target medical_specialty_rs    age_rs  \\\n",
              "0         Yes      0          orthopedics  [80-100)   \n",
              "1         Yes      0    internal_medicine  [30, 60)   \n",
              "2         Yes      1                other   [70-80)   \n",
              "3         Yes      0                other   [60-70)   \n",
              "4         Yes      1       family_general  [30, 60)   \n",
              "\n",
              "     discharge_disposition_id_rs admission_source_id_rs steady up down no  \n",
              "0                          other     physician_referral      1  0    0  1  \n",
              "1                          other         emergency_room      1  0    0  1  \n",
              "2  discharged/transferred_to_SNF         emergency_room      1  1    0  1  \n",
              "3                          other     physician_referral      1  0    0  1  \n",
              "4             discharged_to_home         emergency_room      1  0    0  1  "
            ]
          },
          "metadata": {},
          "execution_count": 31
        }
      ]
    },
    {
      "cell_type": "markdown",
      "metadata": {
        "id": "JjoV0RROqtyF"
      },
      "source": [
        "# Análisis Grafico Bivariados"
      ]
    },
    {
      "cell_type": "code",
      "execution_count": 32,
      "metadata": {
        "id": "AJsSJKjU5hln",
        "colab": {
          "base_uri": "https://localhost:8080/"
        },
        "outputId": "7ce87c81-059b-499c-c445-c0dd1f564545"
      },
      "outputs": [
        {
          "output_type": "stream",
          "name": "stdout",
          "text": [
            "['race', 'gender', 'admission_type_id', 'time_in_hospital', 'num_lab_procedures', 'num_procedures', 'num_medications', 'number_outpatient', 'number_emergency', 'number_inpatient', 'number_diagnoses', 'max_glu_serum', 'A1Cresult', 'change', 'diabetesMed', 'medical_specialty_rs', 'age_rs', 'discharge_disposition_id_rs', 'admission_source_id_rs', 'steady', 'up', 'down', 'no']\n",
            "['time_in_hospital', 'num_lab_procedures', 'num_procedures', 'num_medications', 'number_outpatient', 'number_emergency', 'number_inpatient', 'number_diagnoses']\n",
            "['change', 'A1Cresult', 'steady', 'age_rs', 'up', 'diabetesMed', 'max_glu_serum', 'race', 'admission_source_id_rs', 'no', 'discharge_disposition_id_rs', 'medical_specialty_rs', 'admission_type_id', 'gender', 'down']\n"
          ]
        }
      ],
      "source": [
        "\n",
        "\n",
        "label = \"target\"\n",
        "base_pd2_columns = list(base_pd2.columns)\n",
        "base_pd2_columns.remove(label)\n",
        "print(base_pd2_columns)\n",
        "\n",
        "\n",
        "# Detectar variables númericas y categoricas.\n",
        "# _get_numeric_data(): Selecciona variables númericas generando un nuevo DF\n",
        "num_cols = list(base_pd2._get_numeric_data()) # Lista con nombres de var num\n",
        "print(num_cols)\n",
        "\n",
        "# A partir de las variables numericas se estima una nueva lista con variables categoricas\n",
        "cat_cols = list(set(base_pd2) - set(num_cols))\n",
        "cat_cols.remove(label)\n",
        "print(cat_cols)\n"
      ]
    },
    {
      "cell_type": "code",
      "execution_count": 33,
      "metadata": {
        "colab": {
          "base_uri": "https://localhost:8080/",
          "height": 1000
        },
        "id": "IFuOhEfO-dts",
        "outputId": "bb5988d9-5141-4eee-855c-40d75c9a632c"
      },
      "outputs": [
        {
          "output_type": "display_data",
          "data": {
            "image/png": "[encoded data removed]",
            "text/plain": [
              "<Figure size 648x648 with 1 Axes>"
            ]
          },
          "metadata": {
            "needs_background": "light"
          }
        },
        {
          "output_type": "display_data",
          "data": {
            "image/png": "[encoded data removed]",
            "text/plain": [
              "<Figure size 648x648 with 1 Axes>"
            ]
          },
          "metadata": {
            "needs_background": "light"
          }
        },
        {
          "output_type": "display_data",
          "data": {
            "image/png": "[encoded data removed]",
            "text/plain": [
              "<Figure size 648x648 with 1 Axes>"
            ]
          },
          "metadata": {
            "needs_background": "light"
          }
        },
        {
          "output_type": "display_data",
          "data": {
            "image/png": "[encoded data removed]",
            "text/plain": [
              "<Figure size 648x648 with 1 Axes>"
            ]
          },
          "metadata": {
            "needs_background": "light"
          }
        },
        {
          "output_type": "display_data",
          "data": {
            "image/png": "[encoded data removed]",
            "text/plain": [
              "<Figure size 648x648 with 1 Axes>"
            ]
          },
          "metadata": {
            "needs_background": "light"
          }
        },
        {
          "output_type": "display_data",
          "data": {
            "image/png": "[encoded data removed]",
            "text/plain": [
              "<Figure size 648x648 with 1 Axes>"
            ]
          },
          "metadata": {
            "needs_background": "light"
          }
        },
        {
          "output_type": "display_data",
          "data": {
            "image/png": "[encoded data removed]",
            "text/plain": [
              "<Figure size 648x648 with 1 Axes>"
            ]
          },
          "metadata": {
            "needs_background": "light"
          }
        },
        {
          "output_type": "display_data",
          "data": {
            "image/png": "[encoded data removed]",
            "text/plain": [
              "<Figure size 648x648 with 1 Axes>"
            ]
          },
          "metadata": {
            "needs_background": "light"
          }
        },
        {
          "output_type": "display_data",
          "data": {
            "image/png": "[encoded data removed]",
            "text/plain": [
              "<Figure size 648x648 with 1 Axes>"
            ]
          },
          "metadata": {
            "needs_background": "light"
          }
        },
        {
          "output_type": "display_data",
          "data": {
            "image/png": "[encoded data removed]",
            "text/plain": [
              "<Figure size 648x648 with 1 Axes>"
            ]
          },
          "metadata": {
            "needs_background": "light"
          }
        },
        {
          "output_type": "display_data",
          "data": {
            "image/png": "[encoded data removed]",
            "text/plain": [
              "<Figure size 648x648 with 1 Axes>"
            ]
          },
          "metadata": {
            "needs_background": "light"
          }
        },
        {
          "output_type": "display_data",
          "data": {
            "image/png": "[encoded data removed]",
            "text/plain": [
              "<Figure size 648x648 with 1 Axes>"
            ]
          },
          "metadata": {
            "needs_background": "light"
          }
        },
        {
          "output_type": "display_data",
          "data": {
            "image/png": "[encoded data removed]",
            "text/plain": [
              "<Figure size 648x648 with 1 Axes>"
            ]
          },
          "metadata": {
            "needs_background": "light"
          }
        },
        {
          "output_type": "display_data",
          "data": {
            "image/png": "[encoded data removed]",
            "text/plain": [
              "<Figure size 648x648 with 1 Axes>"
            ]
          },
          "metadata": {
            "needs_background": "light"
          }
        },
        {
          "output_type": "display_data",
          "data": {
            "image/png": "[encoded data removed]",
            "text/plain": [
              "<Figure size 648x648 with 1 Axes>"
            ]
          },
          "metadata": {
            "needs_background": "light"
          }
        }
      ],
      "source": [
        "for col in cat_cols:\n",
        "  plt.figure(figsize=(9,9))\n",
        "  ax = sns.countplot(x = col, hue = label, data = base_pd2)"
      ]
    },
    {
      "cell_type": "code",
      "execution_count": 34,
      "metadata": {
        "colab": {
          "base_uri": "https://localhost:8080/",
          "height": 1000
        },
        "id": "HIDABuuCibR3",
        "outputId": "a6467f41-206d-4f54-a243-d51b1a701502"
      },
      "outputs": [
        {
          "output_type": "display_data",
          "data": {
            "image/png": "[encoded data removed]",
            "text/plain": [
              "<Figure size 576x576 with 1 Axes>"
            ]
          },
          "metadata": {
            "needs_background": "light"
          }
        },
        {
          "output_type": "display_data",
          "data": {
            "image/png": "[encoded data removed]",
            "text/plain": [
              "<Figure size 576x576 with 1 Axes>"
            ]
          },
          "metadata": {
            "needs_background": "light"
          }
        },
        {
          "output_type": "display_data",
          "data": {
            "image/png": "[encoded data removed]",
            "text/plain": [
              "<Figure size 576x576 with 1 Axes>"
            ]
          },
          "metadata": {
            "needs_background": "light"
          }
        },
        {
          "output_type": "display_data",
          "data": {
            "image/png": "[encoded data removed]",
            "text/plain": [
              "<Figure size 576x576 with 1 Axes>"
            ]
          },
          "metadata": {
            "needs_background": "light"
          }
        },
        {
          "output_type": "display_data",
          "data": {
            "image/png": "[encoded data removed]",
            "text/plain": [
              "<Figure size 576x576 with 1 Axes>"
            ]
          },
          "metadata": {
            "needs_background": "light"
          }
        },
        {
          "output_type": "display_data",
          "data": {
            "image/png": "[encoded data removed]",
            "text/plain": [
              "<Figure size 576x576 with 1 Axes>"
            ]
          },
          "metadata": {
            "needs_background": "light"
          }
        },
        {
          "output_type": "display_data",
          "data": {
            "image/png": "[encoded data removed]",
            "text/plain": [
              "<Figure size 576x576 with 1 Axes>"
            ]
          },
          "metadata": {
            "needs_background": "light"
          }
        },
        {
          "output_type": "display_data",
          "data": {
            "image/png": "[encoded data removed]",
            "text/plain": [
              "<Figure size 576x576 with 1 Axes>"
            ]
          },
          "metadata": {
            "needs_background": "light"
          }
        }
      ],
      "source": [
        "\n",
        "for col in num_cols:\n",
        "  plt.figure(figsize=(8,8))\n",
        "  ax = sns.boxplot(x = label, y = col, data = base_pd2)"
      ]
    },
    {
      "cell_type": "markdown",
      "source": [
        "# Codificación de datos categóricos"
      ],
      "metadata": {
        "id": "bqYyeQWSLkll"
      }
    },
    {
      "cell_type": "code",
      "source": [
        "cat_cols"
      ],
      "metadata": {
        "colab": {
          "base_uri": "https://localhost:8080/"
        },
        "id": "hg96fKcQMke7",
        "outputId": "acc26eda-fa57-4dbe-97f3-08e8508963e4"
      },
      "execution_count": 35,
      "outputs": [
        {
          "output_type": "execute_result",
          "data": {
            "text/plain": [
              "['change',\n",
              " 'A1Cresult',\n",
              " 'steady',\n",
              " 'age_rs',\n",
              " 'up',\n",
              " 'diabetesMed',\n",
              " 'max_glu_serum',\n",
              " 'race',\n",
              " 'admission_source_id_rs',\n",
              " 'no',\n",
              " 'discharge_disposition_id_rs',\n",
              " 'medical_specialty_rs',\n",
              " 'admission_type_id',\n",
              " 'gender',\n",
              " 'down']"
            ]
          },
          "metadata": {},
          "execution_count": 35
        }
      ]
    },
    {
      "cell_type": "code",
      "source": [
        "base_pd_dummies=pd.get_dummies(base_pd2,columns=cat_cols)\n",
        "print(base_pd_dummies.shape)\n",
        "base_pd_dummies.head(3)\n"
      ],
      "metadata": {
        "id": "aO8fyzxSMEn5",
        "colab": {
          "base_uri": "https://localhost:8080/",
          "height": 242
        },
        "outputId": "bef37e2b-f93a-482d-91c5-2c8a1109a2a4"
      },
      "execution_count": 36,
      "outputs": [
        {
          "output_type": "stream",
          "name": "stdout",
          "text": [
            "(98052, 67)\n"
          ]
        },
        {
          "output_type": "execute_result",
          "data": {
            "text/html": [
              "\n",
              "  <div id=\"df-737cc07d-d600-4ea8-ae50-9c1725bf5bda\">\n",
              "    <div class=\"colab-df-container\">\n",
              "      <div>\n",
              "<style scoped>\n",
              "    .dataframe tbody tr th:only-of-type {\n",
              "        vertical-align: middle;\n",
              "    }\n",
              "\n",
              "    .dataframe tbody tr th {\n",
              "        vertical-align: top;\n",
              "    }\n",
              "\n",
              "    .dataframe thead th {\n",
              "        text-align: right;\n",
              "    }\n",
              "</style>\n",
              "<table border=\"1\" class=\"dataframe\">\n",
              "  <thead>\n",
              "    <tr style=\"text-align: right;\">\n",
              "      <th></th>\n",
              "      <th>time_in_hospital</th>\n",
              "      <th>num_lab_procedures</th>\n",
              "      <th>num_procedures</th>\n",
              "      <th>num_medications</th>\n",
              "      <th>number_outpatient</th>\n",
              "      <th>number_emergency</th>\n",
              "      <th>number_inpatient</th>\n",
              "      <th>number_diagnoses</th>\n",
              "      <th>target</th>\n",
              "      <th>change_Ch</th>\n",
              "      <th>change_No</th>\n",
              "      <th>A1Cresult_&gt;7</th>\n",
              "      <th>A1Cresult_&gt;8</th>\n",
              "      <th>A1Cresult_None</th>\n",
              "      <th>A1Cresult_Norm</th>\n",
              "      <th>steady_0</th>\n",
              "      <th>steady_1</th>\n",
              "      <th>age_rs_[0, 30)</th>\n",
              "      <th>age_rs_[30, 60)</th>\n",
              "      <th>age_rs_[60-70)</th>\n",
              "      <th>age_rs_[70-80)</th>\n",
              "      <th>age_rs_[80-100)</th>\n",
              "      <th>up_0</th>\n",
              "      <th>up_1</th>\n",
              "      <th>diabetesMed_No</th>\n",
              "      <th>diabetesMed_Yes</th>\n",
              "      <th>max_glu_serum_&gt;200</th>\n",
              "      <th>max_glu_serum_&gt;300</th>\n",
              "      <th>max_glu_serum_None</th>\n",
              "      <th>max_glu_serum_Norm</th>\n",
              "      <th>race_AfricanAmerican</th>\n",
              "      <th>race_Asian</th>\n",
              "      <th>race_Caucasian</th>\n",
              "      <th>race_Hispanic</th>\n",
              "      <th>race_Other</th>\n",
              "      <th>admission_source_id_rs_emergency_room</th>\n",
              "      <th>admission_source_id_rs_other</th>\n",
              "      <th>admission_source_id_rs_physician_referral</th>\n",
              "      <th>no_1</th>\n",
              "      <th>discharge_disposition_id_rs_discharged/transferred__home_with_home_health</th>\n",
              "      <th>discharge_disposition_id_rs_discharged/transferred_to_SNF</th>\n",
              "      <th>discharge_disposition_id_rs_discharged_to_home</th>\n",
              "      <th>discharge_disposition_id_rs_other</th>\n",
              "      <th>medical_specialty_rs_cardiology</th>\n",
              "      <th>medical_specialty_rs_emergency_trauma</th>\n",
              "      <th>medical_specialty_rs_family_general</th>\n",
              "      <th>medical_specialty_rs_gynecology</th>\n",
              "      <th>medical_specialty_rs_internal_medicine</th>\n",
              "      <th>medical_specialty_rs_neuro</th>\n",
              "      <th>medical_specialty_rs_no_informed</th>\n",
              "      <th>medical_specialty_rs_orthopedics</th>\n",
              "      <th>medical_specialty_rs_other</th>\n",
              "      <th>medical_specialty_rs_pediatrics</th>\n",
              "      <th>medical_specialty_rs_radiology</th>\n",
              "      <th>medical_specialty_rs_surgery</th>\n",
              "      <th>admission_type_id_1</th>\n",
              "      <th>admission_type_id_2</th>\n",
              "      <th>admission_type_id_3</th>\n",
              "      <th>admission_type_id_4</th>\n",
              "      <th>admission_type_id_5</th>\n",
              "      <th>admission_type_id_6</th>\n",
              "      <th>admission_type_id_7</th>\n",
              "      <th>admission_type_id_8</th>\n",
              "      <th>gender_Female</th>\n",
              "      <th>gender_Male</th>\n",
              "      <th>down_0</th>\n",
              "      <th>down_1</th>\n",
              "    </tr>\n",
              "  </thead>\n",
              "  <tbody>\n",
              "    <tr>\n",
              "      <th>0</th>\n",
              "      <td>5.0</td>\n",
              "      <td>54.0</td>\n",
              "      <td>1.0</td>\n",
              "      <td>15.0</td>\n",
              "      <td>0.0</td>\n",
              "      <td>0.0</td>\n",
              "      <td>0.0</td>\n",
              "      <td>8.0</td>\n",
              "      <td>0</td>\n",
              "      <td>0</td>\n",
              "      <td>1</td>\n",
              "      <td>0</td>\n",
              "      <td>1</td>\n",
              "      <td>0</td>\n",
              "      <td>0</td>\n",
              "      <td>0</td>\n",
              "      <td>1</td>\n",
              "      <td>0</td>\n",
              "      <td>0</td>\n",
              "      <td>0</td>\n",
              "      <td>0</td>\n",
              "      <td>1</td>\n",
              "      <td>1</td>\n",
              "      <td>0</td>\n",
              "      <td>0</td>\n",
              "      <td>1</td>\n",
              "      <td>0</td>\n",
              "      <td>0</td>\n",
              "      <td>1</td>\n",
              "      <td>0</td>\n",
              "      <td>0</td>\n",
              "      <td>0</td>\n",
              "      <td>1</td>\n",
              "      <td>0</td>\n",
              "      <td>0</td>\n",
              "      <td>0</td>\n",
              "      <td>0</td>\n",
              "      <td>1</td>\n",
              "      <td>1</td>\n",
              "      <td>0</td>\n",
              "      <td>0</td>\n",
              "      <td>0</td>\n",
              "      <td>1</td>\n",
              "      <td>0</td>\n",
              "      <td>0</td>\n",
              "      <td>0</td>\n",
              "      <td>0</td>\n",
              "      <td>0</td>\n",
              "      <td>0</td>\n",
              "      <td>0</td>\n",
              "      <td>1</td>\n",
              "      <td>0</td>\n",
              "      <td>0</td>\n",
              "      <td>0</td>\n",
              "      <td>0</td>\n",
              "      <td>0</td>\n",
              "      <td>0</td>\n",
              "      <td>0</td>\n",
              "      <td>0</td>\n",
              "      <td>0</td>\n",
              "      <td>1</td>\n",
              "      <td>0</td>\n",
              "      <td>0</td>\n",
              "      <td>1</td>\n",
              "      <td>0</td>\n",
              "      <td>1</td>\n",
              "      <td>0</td>\n",
              "    </tr>\n",
              "    <tr>\n",
              "      <th>1</th>\n",
              "      <td>9.0</td>\n",
              "      <td>65.0</td>\n",
              "      <td>5.0</td>\n",
              "      <td>28.0</td>\n",
              "      <td>0.0</td>\n",
              "      <td>0.0</td>\n",
              "      <td>0.0</td>\n",
              "      <td>7.0</td>\n",
              "      <td>0</td>\n",
              "      <td>0</td>\n",
              "      <td>1</td>\n",
              "      <td>0</td>\n",
              "      <td>0</td>\n",
              "      <td>1</td>\n",
              "      <td>0</td>\n",
              "      <td>0</td>\n",
              "      <td>1</td>\n",
              "      <td>0</td>\n",
              "      <td>1</td>\n",
              "      <td>0</td>\n",
              "      <td>0</td>\n",
              "      <td>0</td>\n",
              "      <td>1</td>\n",
              "      <td>0</td>\n",
              "      <td>0</td>\n",
              "      <td>1</td>\n",
              "      <td>0</td>\n",
              "      <td>0</td>\n",
              "      <td>1</td>\n",
              "      <td>0</td>\n",
              "      <td>0</td>\n",
              "      <td>0</td>\n",
              "      <td>1</td>\n",
              "      <td>0</td>\n",
              "      <td>0</td>\n",
              "      <td>1</td>\n",
              "      <td>0</td>\n",
              "      <td>0</td>\n",
              "      <td>1</td>\n",
              "      <td>0</td>\n",
              "      <td>0</td>\n",
              "      <td>0</td>\n",
              "      <td>1</td>\n",
              "      <td>0</td>\n",
              "      <td>0</td>\n",
              "      <td>0</td>\n",
              "      <td>0</td>\n",
              "      <td>1</td>\n",
              "      <td>0</td>\n",
              "      <td>0</td>\n",
              "      <td>0</td>\n",
              "      <td>0</td>\n",
              "      <td>0</td>\n",
              "      <td>0</td>\n",
              "      <td>0</td>\n",
              "      <td>0</td>\n",
              "      <td>0</td>\n",
              "      <td>0</td>\n",
              "      <td>0</td>\n",
              "      <td>0</td>\n",
              "      <td>1</td>\n",
              "      <td>0</td>\n",
              "      <td>0</td>\n",
              "      <td>0</td>\n",
              "      <td>1</td>\n",
              "      <td>1</td>\n",
              "      <td>0</td>\n",
              "    </tr>\n",
              "    <tr>\n",
              "      <th>2</th>\n",
              "      <td>8.0</td>\n",
              "      <td>65.0</td>\n",
              "      <td>3.0</td>\n",
              "      <td>23.0</td>\n",
              "      <td>0.0</td>\n",
              "      <td>0.0</td>\n",
              "      <td>0.0</td>\n",
              "      <td>8.0</td>\n",
              "      <td>1</td>\n",
              "      <td>1</td>\n",
              "      <td>0</td>\n",
              "      <td>0</td>\n",
              "      <td>0</td>\n",
              "      <td>1</td>\n",
              "      <td>0</td>\n",
              "      <td>0</td>\n",
              "      <td>1</td>\n",
              "      <td>0</td>\n",
              "      <td>0</td>\n",
              "      <td>0</td>\n",
              "      <td>1</td>\n",
              "      <td>0</td>\n",
              "      <td>0</td>\n",
              "      <td>1</td>\n",
              "      <td>0</td>\n",
              "      <td>1</td>\n",
              "      <td>0</td>\n",
              "      <td>0</td>\n",
              "      <td>1</td>\n",
              "      <td>0</td>\n",
              "      <td>0</td>\n",
              "      <td>0</td>\n",
              "      <td>1</td>\n",
              "      <td>0</td>\n",
              "      <td>0</td>\n",
              "      <td>1</td>\n",
              "      <td>0</td>\n",
              "      <td>0</td>\n",
              "      <td>1</td>\n",
              "      <td>0</td>\n",
              "      <td>1</td>\n",
              "      <td>0</td>\n",
              "      <td>0</td>\n",
              "      <td>0</td>\n",
              "      <td>0</td>\n",
              "      <td>0</td>\n",
              "      <td>0</td>\n",
              "      <td>0</td>\n",
              "      <td>0</td>\n",
              "      <td>0</td>\n",
              "      <td>0</td>\n",
              "      <td>1</td>\n",
              "      <td>0</td>\n",
              "      <td>0</td>\n",
              "      <td>0</td>\n",
              "      <td>1</td>\n",
              "      <td>0</td>\n",
              "      <td>0</td>\n",
              "      <td>0</td>\n",
              "      <td>0</td>\n",
              "      <td>0</td>\n",
              "      <td>0</td>\n",
              "      <td>0</td>\n",
              "      <td>0</td>\n",
              "      <td>1</td>\n",
              "      <td>1</td>\n",
              "      <td>0</td>\n",
              "    </tr>\n",
              "  </tbody>\n",
              "</table>\n",
              "</div>\n",
              "      <button class=\"colab-df-convert\" onclick=\"convertToInteractive('df-737cc07d-d600-4ea8-ae50-9c1725bf5bda')\"\n",
              "              title=\"Convert this dataframe to an interactive table.\"\n",
              "              style=\"display:none;\">\n",
              "        \n",
              "  <svg xmlns=\"http://www.w3.org/2000/svg\" height=\"24px\"viewBox=\"0 0 24 24\"\n",
              "       width=\"24px\">\n",
              "    <path d=\"M0 0h24v24H0V0z\" fill=\"none\"/>\n",
              "    <path d=\"M18.56 5.44l.94 2.06.94-2.06 2.06-.94-2.06-.94-.94-2.06-.94 2.06-2.06.94zm-11 1L8.5 8.5l.94-2.06 2.06-.94-2.06-.94L8.5 2.5l-.94 2.06-2.06.94zm10 10l.94 2.06.94-2.06 2.06-.94-2.06-.94-.94-2.06-.94 2.06-2.06.94z\"/><path d=\"M17.41 7.96l-1.37-1.37c-.4-.4-.92-.59-1.43-.59-.52 0-1.04.2-1.43.59L10.3 9.45l-7.72 7.72c-.78.78-.78 2.05 0 2.83L4 21.41c.39.39.9.59 1.41.59.51 0 1.02-.2 1.41-.59l7.78-7.78 2.81-2.81c.8-.78.8-2.07 0-2.86zM5.41 20L4 18.59l7.72-7.72 1.47 1.35L5.41 20z\"/>\n",
              "  </svg>\n",
              "      </button>\n",
              "      \n",
              "  <style>\n",
              "    .colab-df-container {\n",
              "      display:flex;\n",
              "      flex-wrap:wrap;\n",
              "      gap: 12px;\n",
              "    }\n",
              "\n",
              "    .colab-df-convert {\n",
              "      background-color: #E8F0FE;\n",
              "      border: none;\n",
              "      border-radius: 50%;\n",
              "      cursor: pointer;\n",
              "      display: none;\n",
              "      fill: #1967D2;\n",
              "      height: 32px;\n",
              "      padding: 0 0 0 0;\n",
              "      width: 32px;\n",
              "    }\n",
              "\n",
              "    .colab-df-convert:hover {\n",
              "      background-color: #E2EBFA;\n",
              "      box-shadow: 0px 1px 2px rgba(60, 64, 67, 0.3), 0px 1px 3px 1px rgba(60, 64, 67, 0.15);\n",
              "      fill: #174EA6;\n",
              "    }\n",
              "\n",
              "    [theme=dark] .colab-df-convert {\n",
              "      background-color: #3B4455;\n",
              "      fill: #D2E3FC;\n",
              "    }\n",
              "\n",
              "    [theme=dark] .colab-df-convert:hover {\n",
              "      background-color: #434B5C;\n",
              "      box-shadow: 0px 1px 3px 1px rgba(0, 0, 0, 0.15);\n",
              "      filter: drop-shadow(0px 1px 2px rgba(0, 0, 0, 0.3));\n",
              "      fill: #FFFFFF;\n",
              "    }\n",
              "  </style>\n",
              "\n",
              "      <script>\n",
              "        const buttonEl =\n",
              "          document.querySelector('#df-737cc07d-d600-4ea8-ae50-9c1725bf5bda button.colab-df-convert');\n",
              "        buttonEl.style.display =\n",
              "          google.colab.kernel.accessAllowed ? 'block' : 'none';\n",
              "\n",
              "        async function convertToInteractive(key) {\n",
              "          const element = document.querySelector('#df-737cc07d-d600-4ea8-ae50-9c1725bf5bda');\n",
              "          const dataTable =\n",
              "            await google.colab.kernel.invokeFunction('convertToInteractive',\n",
              "                                                     [key], {});\n",
              "          if (!dataTable) return;\n",
              "\n",
              "          const docLinkHtml = 'Like what you see? Visit the ' +\n",
              "            '<a target=\"_blank\" href=https://colab.research.google.com/notebooks/data_table.ipynb>data table notebook</a>'\n",
              "            + ' to learn more about interactive tables.';\n",
              "          element.innerHTML = '';\n",
              "          dataTable['output_type'] = 'display_data';\n",
              "          await google.colab.output.renderOutput(dataTable, element);\n",
              "          const docLink = document.createElement('div');\n",
              "          docLink.innerHTML = docLinkHtml;\n",
              "          element.appendChild(docLink);\n",
              "        }\n",
              "      </script>\n",
              "    </div>\n",
              "  </div>\n",
              "  "
            ],
            "text/plain": [
              "   time_in_hospital  num_lab_procedures  num_procedures  num_medications  \\\n",
              "0               5.0                54.0             1.0             15.0   \n",
              "1               9.0                65.0             5.0             28.0   \n",
              "2               8.0                65.0             3.0             23.0   \n",
              "\n",
              "   number_outpatient  number_emergency  number_inpatient  number_diagnoses  \\\n",
              "0                0.0               0.0               0.0               8.0   \n",
              "1                0.0               0.0               0.0               7.0   \n",
              "2                0.0               0.0               0.0               8.0   \n",
              "\n",
              "  target  change_Ch  change_No  A1Cresult_>7  A1Cresult_>8  A1Cresult_None  \\\n",
              "0      0          0          1             0             1               0   \n",
              "1      0          0          1             0             0               1   \n",
              "2      1          1          0             0             0               1   \n",
              "\n",
              "   A1Cresult_Norm  steady_0  steady_1  age_rs_[0, 30)  age_rs_[30, 60)  \\\n",
              "0               0         0         1               0                0   \n",
              "1               0         0         1               0                1   \n",
              "2               0         0         1               0                0   \n",
              "\n",
              "   age_rs_[60-70)  age_rs_[70-80)  age_rs_[80-100)  up_0  up_1  \\\n",
              "0               0               0                1     1     0   \n",
              "1               0               0                0     1     0   \n",
              "2               0               1                0     0     1   \n",
              "\n",
              "   diabetesMed_No  diabetesMed_Yes  max_glu_serum_>200  max_glu_serum_>300  \\\n",
              "0               0                1                   0                   0   \n",
              "1               0                1                   0                   0   \n",
              "2               0                1                   0                   0   \n",
              "\n",
              "   max_glu_serum_None  max_glu_serum_Norm  race_AfricanAmerican  race_Asian  \\\n",
              "0                   1                   0                     0           0   \n",
              "1                   1                   0                     0           0   \n",
              "2                   1                   0                     0           0   \n",
              "\n",
              "   race_Caucasian  race_Hispanic  race_Other  \\\n",
              "0               1              0           0   \n",
              "1               1              0           0   \n",
              "2               1              0           0   \n",
              "\n",
              "   admission_source_id_rs_emergency_room  admission_source_id_rs_other  \\\n",
              "0                                      0                             0   \n",
              "1                                      1                             0   \n",
              "2                                      1                             0   \n",
              "\n",
              "   admission_source_id_rs_physician_referral  no_1  \\\n",
              "0                                          1     1   \n",
              "1                                          0     1   \n",
              "2                                          0     1   \n",
              "\n",
              "   discharge_disposition_id_rs_discharged/transferred__home_with_home_health  \\\n",
              "0                                                  0                           \n",
              "1                                                  0                           \n",
              "2                                                  0                           \n",
              "\n",
              "   discharge_disposition_id_rs_discharged/transferred_to_SNF  \\\n",
              "0                                                  0           \n",
              "1                                                  0           \n",
              "2                                                  1           \n",
              "\n",
              "   discharge_disposition_id_rs_discharged_to_home  \\\n",
              "0                                               0   \n",
              "1                                               0   \n",
              "2                                               0   \n",
              "\n",
              "   discharge_disposition_id_rs_other  medical_specialty_rs_cardiology  \\\n",
              "0                                  1                                0   \n",
              "1                                  1                                0   \n",
              "2                                  0                                0   \n",
              "\n",
              "   medical_specialty_rs_emergency_trauma  medical_specialty_rs_family_general  \\\n",
              "0                                      0                                    0   \n",
              "1                                      0                                    0   \n",
              "2                                      0                                    0   \n",
              "\n",
              "   medical_specialty_rs_gynecology  medical_specialty_rs_internal_medicine  \\\n",
              "0                                0                                       0   \n",
              "1                                0                                       1   \n",
              "2                                0                                       0   \n",
              "\n",
              "   medical_specialty_rs_neuro  medical_specialty_rs_no_informed  \\\n",
              "0                           0                                 0   \n",
              "1                           0                                 0   \n",
              "2                           0                                 0   \n",
              "\n",
              "   medical_specialty_rs_orthopedics  medical_specialty_rs_other  \\\n",
              "0                                 1                           0   \n",
              "1                                 0                           0   \n",
              "2                                 0                           1   \n",
              "\n",
              "   medical_specialty_rs_pediatrics  medical_specialty_rs_radiology  \\\n",
              "0                                0                               0   \n",
              "1                                0                               0   \n",
              "2                                0                               0   \n",
              "\n",
              "   medical_specialty_rs_surgery  admission_type_id_1  admission_type_id_2  \\\n",
              "0                             0                    0                    0   \n",
              "1                             0                    0                    0   \n",
              "2                             0                    1                    0   \n",
              "\n",
              "   admission_type_id_3  admission_type_id_4  admission_type_id_5  \\\n",
              "0                    0                    0                    0   \n",
              "1                    0                    0                    0   \n",
              "2                    0                    0                    0   \n",
              "\n",
              "   admission_type_id_6  admission_type_id_7  admission_type_id_8  \\\n",
              "0                    1                    0                    0   \n",
              "1                    1                    0                    0   \n",
              "2                    0                    0                    0   \n",
              "\n",
              "   gender_Female  gender_Male  down_0  down_1  \n",
              "0              1            0       1       0  \n",
              "1              0            1       1       0  \n",
              "2              0            1       1       0  "
            ]
          },
          "metadata": {},
          "execution_count": 36
        }
      ]
    },
    {
      "cell_type": "markdown",
      "source": [
        "# Análisis de Correlación"
      ],
      "metadata": {
        "id": "WemlH_TLNSsx"
      }
    },
    {
      "cell_type": "code",
      "execution_count": 37,
      "metadata": {
        "id": "kK3CxIRxNFn8",
        "colab": {
          "base_uri": "https://localhost:8080/",
          "height": 503
        },
        "outputId": "a64df814-a28d-47c6-edf0-b44c327c13fd"
      },
      "outputs": [
        {
          "output_type": "display_data",
          "data": {
            "image/png": "[encoded data removed]",
            "text/plain": [
              "<Figure size 1440x720 with 2 Axes>"
            ]
          },
          "metadata": {
            "needs_background": "light"
          }
        }
      ],
      "source": [
        "plt.figure(figsize=(20,10))\n",
        "df_numerical_corr = base_pd_dummies[num_cols].corr()\n",
        "sns.heatmap(df_numerical_corr, annot = True)\n",
        "plt.show()"
      ]
    },
    {
      "cell_type": "markdown",
      "source": [
        "En general se observa una correlación alta de la variable \"num_medications\" con las variables \"time_in_hospital\" y \"num_procedures\" por lo que se decide eliminar de la data"
      ],
      "metadata": {
        "id": "WZG7iz2cWNEe"
      }
    },
    {
      "cell_type": "code",
      "execution_count": 38,
      "metadata": {
        "id": "jF9px2ZEeeHi",
        "colab": {
          "base_uri": "https://localhost:8080/"
        },
        "outputId": "7d80b8fd-fbbb-4d38-dd9b-5a263a3bce34"
      },
      "outputs": [
        {
          "output_type": "execute_result",
          "data": {
            "text/plain": [
              "(98052, 66)"
            ]
          },
          "metadata": {},
          "execution_count": 38
        }
      ],
      "source": [
        "base_pd_dummies.drop(base_pd_dummies[[\"num_medications\"]], axis = 1, inplace = True)\n",
        "base_pd_dummies.shape"
      ]
    },
    {
      "cell_type": "markdown",
      "source": [
        "# Modelamiento"
      ],
      "metadata": {
        "id": "Kuq5AdaNnj1-"
      }
    },
    {
      "cell_type": "code",
      "execution_count": 39,
      "metadata": {
        "id": "Uye_Tuq413Ih",
        "colab": {
          "base_uri": "https://localhost:8080/",
          "height": 317
        },
        "outputId": "0f817645-1799-49c4-8cec-893892493ed8"
      },
      "outputs": [
        {
          "output_type": "display_data",
          "data": {
            "image/png": "[encoded data removed]",
            "text/plain": [
              "<Figure size 360x360 with 1 Axes>"
            ]
          },
          "metadata": {}
        }
      ],
      "source": [
        "labels = 'Readmitted', 'No readmitted'\n",
        "sizes = [base_pd_dummies.target[base_pd_dummies['target']==\"1\"].count(), \n",
        "         base_pd_dummies.target[base_pd_dummies['target']==\"0\"].count()]\n",
        "explode = (0, 0.1)\n",
        "fig1, ax1 = plt.subplots(figsize=(5, 5))\n",
        "ax1.pie(sizes, explode=explode, labels=labels, autopct='%1.1f%%',\n",
        "        shadow=True, startangle=90)\n",
        "ax1.axis('equal')\n",
        "plt.title(\"Proporción de Pacientes  Readmitidos y no Readmitidos\", size = 10)\n",
        "plt.show()\n",
        "\n",
        "# 1: Readmitido\n",
        "# 0. No Readmitido"
      ]
    },
    {
      "cell_type": "markdown",
      "source": [
        "## Manejo de datos desequilibrados\n",
        "\n",
        "Dado que la cantidad de observaciones en la clase ```No readmitted``` es más alta que la cantidad de observaciones en la clase ```Readmitted``` el desequilibrio en la data puede sesgar los resultados y presentar un sobreajuste en el modelo, para resolver esto se utiliza  la técnica de remuestreo."
      ],
      "metadata": {
        "id": "9Yxf5RteFbCg"
      }
    },
    {
      "cell_type": "code",
      "source": [
        "# Crear arrays (Separación de variables predictoras (x) y varibale objetivo (y))\n",
        "y_origin = base_pd_dummies['target']\n",
        "X_origin = base_pd_dummies.drop(['target'], axis=1)"
      ],
      "metadata": {
        "id": "ffrl40NiFZop"
      },
      "execution_count": 40,
      "outputs": []
    },
    {
      "cell_type": "code",
      "source": [
        "randomsample=  RandomOverSampler()\n",
        "X,y=randomsample.fit_resample(X_origin,y_origin)\n",
        "\n",
        "from collections import Counter\n",
        "print('Tamaño BD original {}'.format(Counter(y)))\n",
        "print('Tmaño BD remuestreo {}'.format(Counter(y)))\n",
        "sns.countplot(y,palette='husl')"
      ],
      "metadata": {
        "colab": {
          "base_uri": "https://localhost:8080/",
          "height": 386
        },
        "id": "ne-onRNiGX8A",
        "outputId": "01484a49-6519-41c5-c059-bfd7b339deba"
      },
      "execution_count": 41,
      "outputs": [
        {
          "output_type": "stream",
          "name": "stdout",
          "text": [
            "Tamaño BD original Counter({'0': 86986, '1': 86986})\n",
            "Tmaño BD remuestreo Counter({'0': 86986, '1': 86986})\n"
          ]
        },
        {
          "output_type": "stream",
          "name": "stderr",
          "text": [
            "/usr/local/lib/python3.7/dist-packages/seaborn/_decorators.py:43: FutureWarning: Pass the following variable as a keyword arg: x. From version 0.12, the only valid positional argument will be `data`, and passing other arguments without an explicit keyword will result in an error or misinterpretation.\n",
            "  FutureWarning\n"
          ]
        },
        {
          "output_type": "execute_result",
          "data": {
            "text/plain": [
              "<matplotlib.axes._subplots.AxesSubplot at 0x7f71d4d39d50>"
            ]
          },
          "metadata": {},
          "execution_count": 41
        },
        {
          "output_type": "display_data",
          "data": {
            "image/png": "[encoded data removed]",
            "text/plain": [
              "<Figure size 432x288 with 1 Axes>"
            ]
          },
          "metadata": {
            "needs_background": "light"
          }
        }
      ]
    },
    {
      "cell_type": "markdown",
      "metadata": {
        "id": "BkPtxuJx2gsk"
      },
      "source": [
        "## Separación de Train y Test"
      ]
    },
    {
      "cell_type": "code",
      "execution_count": 42,
      "metadata": {
        "id": "gqngs1g_4mLr"
      },
      "outputs": [],
      "source": [
        "feature_names = np.array(X.columns)\n",
        "scaler = StandardScaler()\n",
        "scaler.fit(X)\n",
        "X = scaler.transform(X)\n"
      ]
    },
    {
      "cell_type": "code",
      "execution_count": 43,
      "metadata": {
        "id": "uSGQIEBS1Gwv"
      },
      "outputs": [],
      "source": [
        "X_train, X_test, y_train, y_test = train_test_split(X, y, test_size = 0.2, random_state = 0)  # 80% Train y 20% Test"
      ]
    },
    {
      "cell_type": "markdown",
      "metadata": {
        "id": "sVxzRtjX57rN"
      },
      "source": [
        "## Selección de variables"
      ]
    },
    {
      "cell_type": "code",
      "execution_count": 44,
      "metadata": {
        "colab": {
          "base_uri": "https://localhost:8080/"
        },
        "id": "TfvAl0E08-Qn",
        "outputId": "0534b885-270e-4b6a-ddbb-497fdadf8641"
      },
      "outputs": [
        {
          "output_type": "stream",
          "name": "stdout",
          "text": [
            "Número de caracteristicas:  25\n",
            "Caracteristicas seleccionadas: [ True False False False  True  True  True False  True False False  True\n",
            " False  True  True False  True False False False False False  True  True\n",
            " False False  True False False False False False False False  True False\n",
            " False False  True  True  True False  True False  True False False False\n",
            "  True False  True False  True False False False False  True False  True\n",
            " False False False  True  True]\n",
            "Clasificación de caracteristicas: [ 1  4  6 20  1  1  1  2  1 18 16  1 17  1  1 36  1 13 12 27 29 37  1  1\n",
            " 23 30  1 22  8 24 40 15  7  9  1 10 41 38  1  1  1 26  1 28  1 31 34 32\n",
            "  1 19  1 33  1  3 11 25 39  1 35  1 14  5 21  1  1]\n"
          ]
        }
      ],
      "source": [
        "# Selección de variables\n",
        "model = LogisticRegression()\n",
        "rfe = RFE(model, n_features_to_select=25) \n",
        "ent = rfe.fit(X_train, y_train)\n",
        "\n",
        "print('Número de caracteristicas: ', ent.n_features_)\n",
        "print('Caracteristicas seleccionadas:', ent.support_)\n",
        "print('Clasificación de caracteristicas:', ent.ranking_)\n"
      ]
    },
    {
      "cell_type": "code",
      "source": [
        "attributes = ent.support_\n",
        "attributes = [feature_names[i] for i in list(attributes.nonzero()[0])]\n",
        "attributes"
      ],
      "metadata": {
        "colab": {
          "base_uri": "https://localhost:8080/"
        },
        "id": "yNEUfXJBeH0r",
        "outputId": "40452cdf-9d60-42ec-cc72-758e6ed76868"
      },
      "execution_count": 45,
      "outputs": [
        {
          "output_type": "execute_result",
          "data": {
            "text/plain": [
              "['time_in_hospital',\n",
              " 'number_emergency',\n",
              " 'number_inpatient',\n",
              " 'number_diagnoses',\n",
              " 'change_No',\n",
              " 'A1Cresult_None',\n",
              " 'steady_0',\n",
              " 'steady_1',\n",
              " 'age_rs_[30, 60)',\n",
              " 'diabetesMed_No',\n",
              " 'diabetesMed_Yes',\n",
              " 'max_glu_serum_None',\n",
              " 'admission_source_id_rs_other',\n",
              " 'discharge_disposition_id_rs_discharged/transferred_to_SNF',\n",
              " 'discharge_disposition_id_rs_discharged_to_home',\n",
              " 'discharge_disposition_id_rs_other',\n",
              " 'medical_specialty_rs_emergency_trauma',\n",
              " 'medical_specialty_rs_gynecology',\n",
              " 'medical_specialty_rs_orthopedics',\n",
              " 'medical_specialty_rs_pediatrics',\n",
              " 'medical_specialty_rs_surgery',\n",
              " 'admission_type_id_5',\n",
              " 'admission_type_id_7',\n",
              " 'down_0',\n",
              " 'down_1']"
            ]
          },
          "metadata": {},
          "execution_count": 45
        }
      ]
    },
    {
      "cell_type": "code",
      "execution_count": 46,
      "metadata": {
        "id": "wkj3TkZtSKZP",
        "outputId": "762c22d8-2de1-4d04-b998-c9df12736784",
        "colab": {
          "base_uri": "https://localhost:8080/",
          "height": 207
        }
      },
      "outputs": [
        {
          "output_type": "execute_result",
          "data": {
            "text/html": [
              "\n",
              "  <div id=\"df-aadb4627-bb6a-48e7-aebe-e64369da5c16\">\n",
              "    <div class=\"colab-df-container\">\n",
              "      <div>\n",
              "<style scoped>\n",
              "    .dataframe tbody tr th:only-of-type {\n",
              "        vertical-align: middle;\n",
              "    }\n",
              "\n",
              "    .dataframe tbody tr th {\n",
              "        vertical-align: top;\n",
              "    }\n",
              "\n",
              "    .dataframe thead th {\n",
              "        text-align: right;\n",
              "    }\n",
              "</style>\n",
              "<table border=\"1\" class=\"dataframe\">\n",
              "  <thead>\n",
              "    <tr style=\"text-align: right;\">\n",
              "      <th></th>\n",
              "      <th>0</th>\n",
              "      <th>4</th>\n",
              "      <th>5</th>\n",
              "      <th>6</th>\n",
              "      <th>8</th>\n",
              "      <th>11</th>\n",
              "      <th>13</th>\n",
              "      <th>14</th>\n",
              "      <th>16</th>\n",
              "      <th>22</th>\n",
              "      <th>23</th>\n",
              "      <th>26</th>\n",
              "      <th>34</th>\n",
              "      <th>38</th>\n",
              "      <th>39</th>\n",
              "      <th>40</th>\n",
              "      <th>42</th>\n",
              "      <th>44</th>\n",
              "      <th>48</th>\n",
              "      <th>50</th>\n",
              "      <th>52</th>\n",
              "      <th>57</th>\n",
              "      <th>59</th>\n",
              "      <th>63</th>\n",
              "      <th>64</th>\n",
              "    </tr>\n",
              "  </thead>\n",
              "  <tbody>\n",
              "    <tr>\n",
              "      <th>0</th>\n",
              "      <td>2.460038</td>\n",
              "      <td>-0.229796</td>\n",
              "      <td>0.061453</td>\n",
              "      <td>0.778626</td>\n",
              "      <td>0.948052</td>\n",
              "      <td>-2.317535</td>\n",
              "      <td>-0.817897</td>\n",
              "      <td>0.817897</td>\n",
              "      <td>-0.637123</td>\n",
              "      <td>-0.526877</td>\n",
              "      <td>0.526877</td>\n",
              "      <td>0.244428</td>\n",
              "      <td>-0.397152</td>\n",
              "      <td>2.322784</td>\n",
              "      <td>-1.095790</td>\n",
              "      <td>-0.439172</td>\n",
              "      <td>-0.286643</td>\n",
              "      <td>-0.071302</td>\n",
              "      <td>-0.101355</td>\n",
              "      <td>-0.028682</td>\n",
              "      <td>-0.224168</td>\n",
              "      <td>-0.219676</td>\n",
              "      <td>-0.010723</td>\n",
              "      <td>0.425442</td>\n",
              "      <td>-0.425442</td>\n",
              "    </tr>\n",
              "    <tr>\n",
              "      <th>1</th>\n",
              "      <td>1.133955</td>\n",
              "      <td>-0.229796</td>\n",
              "      <td>0.675214</td>\n",
              "      <td>0.778626</td>\n",
              "      <td>-1.054795</td>\n",
              "      <td>-2.317535</td>\n",
              "      <td>1.222647</td>\n",
              "      <td>-1.222647</td>\n",
              "      <td>1.569557</td>\n",
              "      <td>-0.526877</td>\n",
              "      <td>0.526877</td>\n",
              "      <td>0.244428</td>\n",
              "      <td>-0.397152</td>\n",
              "      <td>-0.430518</td>\n",
              "      <td>0.912583</td>\n",
              "      <td>-0.439172</td>\n",
              "      <td>3.488656</td>\n",
              "      <td>-0.071302</td>\n",
              "      <td>-0.101355</td>\n",
              "      <td>-0.028682</td>\n",
              "      <td>-0.224168</td>\n",
              "      <td>-0.219676</td>\n",
              "      <td>-0.010723</td>\n",
              "      <td>-2.350499</td>\n",
              "      <td>2.350499</td>\n",
              "    </tr>\n",
              "    <tr>\n",
              "      <th>2</th>\n",
              "      <td>0.802434</td>\n",
              "      <td>-0.229796</td>\n",
              "      <td>0.675214</td>\n",
              "      <td>0.778626</td>\n",
              "      <td>0.948052</td>\n",
              "      <td>0.431493</td>\n",
              "      <td>1.222647</td>\n",
              "      <td>-1.222647</td>\n",
              "      <td>1.569557</td>\n",
              "      <td>1.897976</td>\n",
              "      <td>-1.897976</td>\n",
              "      <td>0.244428</td>\n",
              "      <td>-0.397152</td>\n",
              "      <td>-0.430518</td>\n",
              "      <td>-1.095790</td>\n",
              "      <td>-0.439172</td>\n",
              "      <td>3.488656</td>\n",
              "      <td>-0.071302</td>\n",
              "      <td>-0.101355</td>\n",
              "      <td>-0.028682</td>\n",
              "      <td>-0.224168</td>\n",
              "      <td>-0.219676</td>\n",
              "      <td>-0.010723</td>\n",
              "      <td>0.425442</td>\n",
              "      <td>-0.425442</td>\n",
              "    </tr>\n",
              "  </tbody>\n",
              "</table>\n",
              "</div>\n",
              "      <button class=\"colab-df-convert\" onclick=\"convertToInteractive('df-aadb4627-bb6a-48e7-aebe-e64369da5c16')\"\n",
              "              title=\"Convert this dataframe to an interactive table.\"\n",
              "              style=\"display:none;\">\n",
              "        \n",
              "  <svg xmlns=\"http://www.w3.org/2000/svg\" height=\"24px\"viewBox=\"0 0 24 24\"\n",
              "       width=\"24px\">\n",
              "    <path d=\"M0 0h24v24H0V0z\" fill=\"none\"/>\n",
              "    <path d=\"M18.56 5.44l.94 2.06.94-2.06 2.06-.94-2.06-.94-.94-2.06-.94 2.06-2.06.94zm-11 1L8.5 8.5l.94-2.06 2.06-.94-2.06-.94L8.5 2.5l-.94 2.06-2.06.94zm10 10l.94 2.06.94-2.06 2.06-.94-2.06-.94-.94-2.06-.94 2.06-2.06.94z\"/><path d=\"M17.41 7.96l-1.37-1.37c-.4-.4-.92-.59-1.43-.59-.52 0-1.04.2-1.43.59L10.3 9.45l-7.72 7.72c-.78.78-.78 2.05 0 2.83L4 21.41c.39.39.9.59 1.41.59.51 0 1.02-.2 1.41-.59l7.78-7.78 2.81-2.81c.8-.78.8-2.07 0-2.86zM5.41 20L4 18.59l7.72-7.72 1.47 1.35L5.41 20z\"/>\n",
              "  </svg>\n",
              "      </button>\n",
              "      \n",
              "  <style>\n",
              "    .colab-df-container {\n",
              "      display:flex;\n",
              "      flex-wrap:wrap;\n",
              "      gap: 12px;\n",
              "    }\n",
              "\n",
              "    .colab-df-convert {\n",
              "      background-color: #E8F0FE;\n",
              "      border: none;\n",
              "      border-radius: 50%;\n",
              "      cursor: pointer;\n",
              "      display: none;\n",
              "      fill: #1967D2;\n",
              "      height: 32px;\n",
              "      padding: 0 0 0 0;\n",
              "      width: 32px;\n",
              "    }\n",
              "\n",
              "    .colab-df-convert:hover {\n",
              "      background-color: #E2EBFA;\n",
              "      box-shadow: 0px 1px 2px rgba(60, 64, 67, 0.3), 0px 1px 3px 1px rgba(60, 64, 67, 0.15);\n",
              "      fill: #174EA6;\n",
              "    }\n",
              "\n",
              "    [theme=dark] .colab-df-convert {\n",
              "      background-color: #3B4455;\n",
              "      fill: #D2E3FC;\n",
              "    }\n",
              "\n",
              "    [theme=dark] .colab-df-convert:hover {\n",
              "      background-color: #434B5C;\n",
              "      box-shadow: 0px 1px 3px 1px rgba(0, 0, 0, 0.15);\n",
              "      filter: drop-shadow(0px 1px 2px rgba(0, 0, 0, 0.3));\n",
              "      fill: #FFFFFF;\n",
              "    }\n",
              "  </style>\n",
              "\n",
              "      <script>\n",
              "        const buttonEl =\n",
              "          document.querySelector('#df-aadb4627-bb6a-48e7-aebe-e64369da5c16 button.colab-df-convert');\n",
              "        buttonEl.style.display =\n",
              "          google.colab.kernel.accessAllowed ? 'block' : 'none';\n",
              "\n",
              "        async function convertToInteractive(key) {\n",
              "          const element = document.querySelector('#df-aadb4627-bb6a-48e7-aebe-e64369da5c16');\n",
              "          const dataTable =\n",
              "            await google.colab.kernel.invokeFunction('convertToInteractive',\n",
              "                                                     [key], {});\n",
              "          if (!dataTable) return;\n",
              "\n",
              "          const docLinkHtml = 'Like what you see? Visit the ' +\n",
              "            '<a target=\"_blank\" href=https://colab.research.google.com/notebooks/data_table.ipynb>data table notebook</a>'\n",
              "            + ' to learn more about interactive tables.';\n",
              "          element.innerHTML = '';\n",
              "          dataTable['output_type'] = 'display_data';\n",
              "          await google.colab.output.renderOutput(dataTable, element);\n",
              "          const docLink = document.createElement('div');\n",
              "          docLink.innerHTML = docLinkHtml;\n",
              "          element.appendChild(docLink);\n",
              "        }\n",
              "      </script>\n",
              "    </div>\n",
              "  </div>\n",
              "  "
            ],
            "text/plain": [
              "         0         4         5         6         8         11        13  \\\n",
              "0  2.460038 -0.229796  0.061453  0.778626  0.948052 -2.317535 -0.817897   \n",
              "1  1.133955 -0.229796  0.675214  0.778626 -1.054795 -2.317535  1.222647   \n",
              "2  0.802434 -0.229796  0.675214  0.778626  0.948052  0.431493  1.222647   \n",
              "\n",
              "         14        16        22        23        26        34        38  \\\n",
              "0  0.817897 -0.637123 -0.526877  0.526877  0.244428 -0.397152  2.322784   \n",
              "1 -1.222647  1.569557 -0.526877  0.526877  0.244428 -0.397152 -0.430518   \n",
              "2 -1.222647  1.569557  1.897976 -1.897976  0.244428 -0.397152 -0.430518   \n",
              "\n",
              "         39        40        42        44        48        50        52  \\\n",
              "0 -1.095790 -0.439172 -0.286643 -0.071302 -0.101355 -0.028682 -0.224168   \n",
              "1  0.912583 -0.439172  3.488656 -0.071302 -0.101355 -0.028682 -0.224168   \n",
              "2 -1.095790 -0.439172  3.488656 -0.071302 -0.101355 -0.028682 -0.224168   \n",
              "\n",
              "         57        59        63        64  \n",
              "0 -0.219676 -0.010723  0.425442 -0.425442  \n",
              "1 -0.219676 -0.010723 -2.350499  2.350499  \n",
              "2 -0.219676 -0.010723  0.425442 -0.425442  "
            ]
          },
          "metadata": {},
          "execution_count": 46
        }
      ],
      "source": [
        "# Ajustar train y test a las variables seleccionadas\n",
        "f = rfe.get_support(1) #the most important features\n",
        "X_train2 = pd.DataFrame(X_train)[pd.DataFrame(X_train).columns[f]] # final features`\n",
        "X_train2.head(3)\n"
      ]
    },
    {
      "cell_type": "code",
      "execution_count": 47,
      "metadata": {
        "id": "6Z52FunASKZP",
        "outputId": "dbc3d004-c316-43bd-d974-2b0e0475def2",
        "colab": {
          "base_uri": "https://localhost:8080/",
          "height": 207
        }
      },
      "outputs": [
        {
          "output_type": "execute_result",
          "data": {
            "text/html": [
              "\n",
              "  <div id=\"df-cd26e318-21d2-46b1-b5d5-4a98dfa4cb08\">\n",
              "    <div class=\"colab-df-container\">\n",
              "      <div>\n",
              "<style scoped>\n",
              "    .dataframe tbody tr th:only-of-type {\n",
              "        vertical-align: middle;\n",
              "    }\n",
              "\n",
              "    .dataframe tbody tr th {\n",
              "        vertical-align: top;\n",
              "    }\n",
              "\n",
              "    .dataframe thead th {\n",
              "        text-align: right;\n",
              "    }\n",
              "</style>\n",
              "<table border=\"1\" class=\"dataframe\">\n",
              "  <thead>\n",
              "    <tr style=\"text-align: right;\">\n",
              "      <th></th>\n",
              "      <th>0</th>\n",
              "      <th>4</th>\n",
              "      <th>5</th>\n",
              "      <th>6</th>\n",
              "      <th>8</th>\n",
              "      <th>11</th>\n",
              "      <th>13</th>\n",
              "      <th>14</th>\n",
              "      <th>16</th>\n",
              "      <th>22</th>\n",
              "      <th>23</th>\n",
              "      <th>26</th>\n",
              "      <th>34</th>\n",
              "      <th>38</th>\n",
              "      <th>39</th>\n",
              "      <th>40</th>\n",
              "      <th>42</th>\n",
              "      <th>44</th>\n",
              "      <th>48</th>\n",
              "      <th>50</th>\n",
              "      <th>52</th>\n",
              "      <th>57</th>\n",
              "      <th>59</th>\n",
              "      <th>63</th>\n",
              "      <th>64</th>\n",
              "    </tr>\n",
              "  </thead>\n",
              "  <tbody>\n",
              "    <tr>\n",
              "      <th>0</th>\n",
              "      <td>1.133955</td>\n",
              "      <td>-0.229796</td>\n",
              "      <td>-0.552308</td>\n",
              "      <td>0.778626</td>\n",
              "      <td>-1.054795</td>\n",
              "      <td>-2.317535</td>\n",
              "      <td>1.222647</td>\n",
              "      <td>-1.222647</td>\n",
              "      <td>1.569557</td>\n",
              "      <td>-0.526877</td>\n",
              "      <td>0.526877</td>\n",
              "      <td>0.244428</td>\n",
              "      <td>-0.397152</td>\n",
              "      <td>-0.430518</td>\n",
              "      <td>-1.095790</td>\n",
              "      <td>-0.439172</td>\n",
              "      <td>-0.286643</td>\n",
              "      <td>-0.071302</td>\n",
              "      <td>-0.101355</td>\n",
              "      <td>-0.028682</td>\n",
              "      <td>4.460947</td>\n",
              "      <td>-0.219676</td>\n",
              "      <td>-0.010723</td>\n",
              "      <td>-2.350499</td>\n",
              "      <td>2.350499</td>\n",
              "    </tr>\n",
              "    <tr>\n",
              "      <th>1</th>\n",
              "      <td>-0.523649</td>\n",
              "      <td>-0.229796</td>\n",
              "      <td>3.130257</td>\n",
              "      <td>0.216259</td>\n",
              "      <td>0.948052</td>\n",
              "      <td>0.431493</td>\n",
              "      <td>-0.817897</td>\n",
              "      <td>0.817897</td>\n",
              "      <td>-0.637123</td>\n",
              "      <td>-0.526877</td>\n",
              "      <td>0.526877</td>\n",
              "      <td>0.244428</td>\n",
              "      <td>-0.397152</td>\n",
              "      <td>-0.430518</td>\n",
              "      <td>-1.095790</td>\n",
              "      <td>-0.439172</td>\n",
              "      <td>-0.286643</td>\n",
              "      <td>-0.071302</td>\n",
              "      <td>-0.101355</td>\n",
              "      <td>-0.028682</td>\n",
              "      <td>-0.224168</td>\n",
              "      <td>-0.219676</td>\n",
              "      <td>-0.010723</td>\n",
              "      <td>0.425442</td>\n",
              "      <td>-0.425442</td>\n",
              "    </tr>\n",
              "    <tr>\n",
              "      <th>2</th>\n",
              "      <td>2.791559</td>\n",
              "      <td>-0.229796</td>\n",
              "      <td>-0.552308</td>\n",
              "      <td>0.778626</td>\n",
              "      <td>0.948052</td>\n",
              "      <td>0.431493</td>\n",
              "      <td>-0.817897</td>\n",
              "      <td>0.817897</td>\n",
              "      <td>-0.637123</td>\n",
              "      <td>-0.526877</td>\n",
              "      <td>0.526877</td>\n",
              "      <td>0.244428</td>\n",
              "      <td>-0.397152</td>\n",
              "      <td>-0.430518</td>\n",
              "      <td>0.912583</td>\n",
              "      <td>-0.439172</td>\n",
              "      <td>-0.286643</td>\n",
              "      <td>-0.071302</td>\n",
              "      <td>-0.101355</td>\n",
              "      <td>-0.028682</td>\n",
              "      <td>-0.224168</td>\n",
              "      <td>-0.219676</td>\n",
              "      <td>-0.010723</td>\n",
              "      <td>0.425442</td>\n",
              "      <td>-0.425442</td>\n",
              "    </tr>\n",
              "  </tbody>\n",
              "</table>\n",
              "</div>\n",
              "      <button class=\"colab-df-convert\" onclick=\"convertToInteractive('df-cd26e318-21d2-46b1-b5d5-4a98dfa4cb08')\"\n",
              "              title=\"Convert this dataframe to an interactive table.\"\n",
              "              style=\"display:none;\">\n",
              "        \n",
              "  <svg xmlns=\"http://www.w3.org/2000/svg\" height=\"24px\"viewBox=\"0 0 24 24\"\n",
              "       width=\"24px\">\n",
              "    <path d=\"M0 0h24v24H0V0z\" fill=\"none\"/>\n",
              "    <path d=\"M18.56 5.44l.94 2.06.94-2.06 2.06-.94-2.06-.94-.94-2.06-.94 2.06-2.06.94zm-11 1L8.5 8.5l.94-2.06 2.06-.94-2.06-.94L8.5 2.5l-.94 2.06-2.06.94zm10 10l.94 2.06.94-2.06 2.06-.94-2.06-.94-.94-2.06-.94 2.06-2.06.94z\"/><path d=\"M17.41 7.96l-1.37-1.37c-.4-.4-.92-.59-1.43-.59-.52 0-1.04.2-1.43.59L10.3 9.45l-7.72 7.72c-.78.78-.78 2.05 0 2.83L4 21.41c.39.39.9.59 1.41.59.51 0 1.02-.2 1.41-.59l7.78-7.78 2.81-2.81c.8-.78.8-2.07 0-2.86zM5.41 20L4 18.59l7.72-7.72 1.47 1.35L5.41 20z\"/>\n",
              "  </svg>\n",
              "      </button>\n",
              "      \n",
              "  <style>\n",
              "    .colab-df-container {\n",
              "      display:flex;\n",
              "      flex-wrap:wrap;\n",
              "      gap: 12px;\n",
              "    }\n",
              "\n",
              "    .colab-df-convert {\n",
              "      background-color: #E8F0FE;\n",
              "      border: none;\n",
              "      border-radius: 50%;\n",
              "      cursor: pointer;\n",
              "      display: none;\n",
              "      fill: #1967D2;\n",
              "      height: 32px;\n",
              "      padding: 0 0 0 0;\n",
              "      width: 32px;\n",
              "    }\n",
              "\n",
              "    .colab-df-convert:hover {\n",
              "      background-color: #E2EBFA;\n",
              "      box-shadow: 0px 1px 2px rgba(60, 64, 67, 0.3), 0px 1px 3px 1px rgba(60, 64, 67, 0.15);\n",
              "      fill: #174EA6;\n",
              "    }\n",
              "\n",
              "    [theme=dark] .colab-df-convert {\n",
              "      background-color: #3B4455;\n",
              "      fill: #D2E3FC;\n",
              "    }\n",
              "\n",
              "    [theme=dark] .colab-df-convert:hover {\n",
              "      background-color: #434B5C;\n",
              "      box-shadow: 0px 1px 3px 1px rgba(0, 0, 0, 0.15);\n",
              "      filter: drop-shadow(0px 1px 2px rgba(0, 0, 0, 0.3));\n",
              "      fill: #FFFFFF;\n",
              "    }\n",
              "  </style>\n",
              "\n",
              "      <script>\n",
              "        const buttonEl =\n",
              "          document.querySelector('#df-cd26e318-21d2-46b1-b5d5-4a98dfa4cb08 button.colab-df-convert');\n",
              "        buttonEl.style.display =\n",
              "          google.colab.kernel.accessAllowed ? 'block' : 'none';\n",
              "\n",
              "        async function convertToInteractive(key) {\n",
              "          const element = document.querySelector('#df-cd26e318-21d2-46b1-b5d5-4a98dfa4cb08');\n",
              "          const dataTable =\n",
              "            await google.colab.kernel.invokeFunction('convertToInteractive',\n",
              "                                                     [key], {});\n",
              "          if (!dataTable) return;\n",
              "\n",
              "          const docLinkHtml = 'Like what you see? Visit the ' +\n",
              "            '<a target=\"_blank\" href=https://colab.research.google.com/notebooks/data_table.ipynb>data table notebook</a>'\n",
              "            + ' to learn more about interactive tables.';\n",
              "          element.innerHTML = '';\n",
              "          dataTable['output_type'] = 'display_data';\n",
              "          await google.colab.output.renderOutput(dataTable, element);\n",
              "          const docLink = document.createElement('div');\n",
              "          docLink.innerHTML = docLinkHtml;\n",
              "          element.appendChild(docLink);\n",
              "        }\n",
              "      </script>\n",
              "    </div>\n",
              "  </div>\n",
              "  "
            ],
            "text/plain": [
              "         0         4         5         6         8         11        13  \\\n",
              "0  1.133955 -0.229796 -0.552308  0.778626 -1.054795 -2.317535  1.222647   \n",
              "1 -0.523649 -0.229796  3.130257  0.216259  0.948052  0.431493 -0.817897   \n",
              "2  2.791559 -0.229796 -0.552308  0.778626  0.948052  0.431493 -0.817897   \n",
              "\n",
              "         14        16        22        23        26        34        38  \\\n",
              "0 -1.222647  1.569557 -0.526877  0.526877  0.244428 -0.397152 -0.430518   \n",
              "1  0.817897 -0.637123 -0.526877  0.526877  0.244428 -0.397152 -0.430518   \n",
              "2  0.817897 -0.637123 -0.526877  0.526877  0.244428 -0.397152 -0.430518   \n",
              "\n",
              "         39        40        42        44        48        50        52  \\\n",
              "0 -1.095790 -0.439172 -0.286643 -0.071302 -0.101355 -0.028682  4.460947   \n",
              "1 -1.095790 -0.439172 -0.286643 -0.071302 -0.101355 -0.028682 -0.224168   \n",
              "2  0.912583 -0.439172 -0.286643 -0.071302 -0.101355 -0.028682 -0.224168   \n",
              "\n",
              "         57        59        63        64  \n",
              "0 -0.219676 -0.010723 -2.350499  2.350499  \n",
              "1 -0.219676 -0.010723  0.425442 -0.425442  \n",
              "2 -0.219676 -0.010723  0.425442 -0.425442  "
            ]
          },
          "metadata": {},
          "execution_count": 47
        }
      ],
      "source": [
        "X_test2 = pd.DataFrame(X_test)[pd.DataFrame(X_train2).columns] # final features`\n",
        "X_test2.head(3)"
      ]
    },
    {
      "cell_type": "markdown",
      "metadata": {
        "id": "JBNI-n_d-OfE"
      },
      "source": [
        "## Modelo xgboost"
      ]
    },
    {
      "cell_type": "code",
      "execution_count": 48,
      "metadata": {
        "id": "D68r_sWY-MtW",
        "outputId": "8d6e6b2f-9396-49c9-cc8f-5a6ea4636afb",
        "colab": {
          "base_uri": "https://localhost:8080/"
        }
      },
      "outputs": [
        {
          "output_type": "stream",
          "name": "stdout",
          "text": [
            "Accuracy sobre conjunto de Train: 0.6128958089339475\n",
            "Accuracy sobre conjunto de Test: 0.607069981319155\n"
          ]
        }
      ],
      "source": [
        "xgb_model = xgb.XGBClassifier(scale_pos_weight = 1, min_child_weight = 1)\n",
        "xgb_model.fit(X_train2, y_train)\n",
        "\n",
        "y_train_pred = xgb_model.predict(X_train2)\n",
        "y_test_pred = xgb_model.predict(X_test2)\n",
        "\n",
        "print ('Accuracy sobre conjunto de Train:', metrics.accuracy_score(y_train, y_train_pred))\n",
        "print ('Accuracy sobre conjunto de Test:', metrics.accuracy_score(y_test, y_test_pred))"
      ]
    },
    {
      "cell_type": "code",
      "execution_count": 49,
      "metadata": {
        "colab": {
          "base_uri": "https://localhost:8080/",
          "height": 286
        },
        "id": "EsMmF4dZENmb",
        "outputId": "0c713fda-d758-4799-c3af-2b63038fc547"
      },
      "outputs": [
        {
          "output_type": "execute_result",
          "data": {
            "text/plain": [
              "<matplotlib.axes._subplots.AxesSubplot at 0x7f71d6203610>"
            ]
          },
          "metadata": {},
          "execution_count": 49
        },
        {
          "output_type": "display_data",
          "data": {
            "image/png": "[encoded data removed]",
            "text/plain": [
              "<Figure size 432x288 with 2 Axes>"
            ]
          },
          "metadata": {
            "needs_background": "light"
          }
        }
      ],
      "source": [
        "#Matriz de confusión \n",
        "from sklearn.metrics import confusion_matrix\n",
        "cm = confusion_matrix(y_test, y_test_pred)\n",
        "#print(cm)\n",
        "sns.heatmap(cm, annot=True)"
      ]
    },
    {
      "cell_type": "markdown",
      "source": [
        "## KNN"
      ],
      "metadata": {
        "id": "U4g2MCfPnyGq"
      }
    },
    {
      "cell_type": "code",
      "source": [
        "knn = KNeighborsClassifier(n_neighbors=10)\n",
        "knn_train=knn.fit(X_train2, y_train)"
      ],
      "metadata": {
        "id": "o4nJeBSZO0L4"
      },
      "execution_count": 50,
      "outputs": []
    },
    {
      "cell_type": "code",
      "source": [
        "# Predecimos sobre nuestro set de entrenamieto\n",
        "y_train_pred = knn_train.predict(X_train2)\n",
        "\n",
        "# Predecimos sobre nuestro set de test\n",
        "y_test_pred = knn_train.predict(X_test2)\n",
        "\n",
        "# Comaparamos con las etiquetas reales\n",
        "print('Accuracy sobre conjunto de Train:', metrics.accuracy_score(y_train_pred,y_train))\n",
        "print('Accuracy sobre conjunto de Test:', metrics.accuracy_score(y_test_pred,y_test))"
      ],
      "metadata": {
        "colab": {
          "base_uri": "https://localhost:8080/"
        },
        "id": "3pkfH0EEO5dJ",
        "outputId": "3c304e4f-f9d0-4ccf-a7f0-20a41991c241"
      },
      "execution_count": 51,
      "outputs": [
        {
          "output_type": "stream",
          "name": "stdout",
          "text": [
            "Accuracy sobre conjunto de Train: 0.7302643396538221\n",
            "Accuracy sobre conjunto de Test: 0.6883172869665182\n"
          ]
        }
      ]
    },
    {
      "cell_type": "markdown",
      "source": [
        "## CART"
      ],
      "metadata": {
        "id": "UZFNnyqZoOi4"
      }
    },
    {
      "cell_type": "code",
      "source": [
        "CART = tree.DecisionTreeClassifier()\n",
        "CART_train=CART.fit(X_train2, y_train)\n",
        "\n",
        "# Predecimos sobre nuestro set de entrenamieto\n",
        "y_train_pred = CART_train.predict(X_train2)\n",
        "\n",
        "# Predecimos sobre nuestro set de test\n",
        "y_test_pred = CART_train.predict(X_test2)\n",
        "\n",
        "# Comaparamos con las etiquetas reales\n",
        "print('Accuracy sobre conjunto de Train:', metrics.accuracy_score(y_train_pred,y_train))\n",
        "print('Accuracy sobre conjunto de Test:', metrics.accuracy_score(y_test_pred,y_test))"
      ],
      "metadata": {
        "colab": {
          "base_uri": "https://localhost:8080/"
        },
        "id": "0n0A_B8toP7H",
        "outputId": "687a7e20-8d9f-4e68-c899-c7bc0b3ba800"
      },
      "execution_count": 52,
      "outputs": [
        {
          "output_type": "stream",
          "name": "stdout",
          "text": [
            "Accuracy sobre conjunto de Train: 0.8213138665153007\n",
            "Accuracy sobre conjunto de Test: 0.774249173731858\n"
          ]
        }
      ]
    },
    {
      "cell_type": "markdown",
      "source": [
        "## LDA"
      ],
      "metadata": {
        "id": "OST2Kfj0nXr8"
      }
    },
    {
      "cell_type": "code",
      "source": [
        "lda = LinearDiscriminantAnalysis()\n",
        "lda_train=lda.fit(X_train, y_train)"
      ],
      "metadata": {
        "id": "pZQyMihQmJW7"
      },
      "execution_count": 53,
      "outputs": []
    },
    {
      "cell_type": "code",
      "source": [
        "# Predecimos sobre nuestro set de entrenamieto\n",
        "y_train_pred = lda_train.predict(X_train)\n",
        "\n",
        "# Predecimos sobre nuestro set de test\n",
        "y_test_pred = lda_train.predict(X_test)\n",
        "\n",
        "# Comaparamos con las etiquetas reales\n",
        "print('Accuracy sobre conjunto de Train:', metrics.accuracy_score(y_train_pred,y_train))\n",
        "print('Accuracy sobre conjunto de Test:', metrics.accuracy_score(y_test_pred,y_test))"
      ],
      "metadata": {
        "colab": {
          "base_uri": "https://localhost:8080/"
        },
        "id": "o3DXVKtCmKpU",
        "outputId": "4cc7b926-b44e-4e35-a6d8-4936f91a1253"
      },
      "execution_count": 54,
      "outputs": [
        {
          "output_type": "stream",
          "name": "stdout",
          "text": [
            "Accuracy sobre conjunto de Train: 0.6002859667904898\n",
            "Accuracy sobre conjunto de Test: 0.5977295588446616\n"
          ]
        }
      ]
    },
    {
      "cell_type": "markdown",
      "metadata": {
        "id": "M5hkDSnfGhAr"
      },
      "source": [
        "## Regresión Logistica\n",
        "---\n",
        "Aplicación de Penalización \"L2\" sobre data set original\n",
        "\n"
      ]
    },
    {
      "cell_type": "code",
      "execution_count": 56,
      "metadata": {
        "id": "5d7kWprSQHEy"
      },
      "outputs": [],
      "source": [
        "X_train, X_test, y_train, y_test = train_test_split(X_origin, y_origin, test_size = 0.2, random_state = 0)  # 80% Train y 20% Test"
      ]
    },
    {
      "cell_type": "code",
      "source": [
        "# Selección de variables\n",
        "model_lr = LogisticRegression()\n",
        "rfe = RFE(model_lr, n_features_to_select=25) \n",
        "ent_lr = rfe.fit(X_train, y_train)\n",
        "\n",
        "#print('Número de caracteristicas: ', ent_lr.n_features_)\n",
        "#print('Caracteristicas seleccionadas:', ent_lr.support_)\n",
        "#print('Clasificación de caracteristicas:', ent_lr.ranking_)\n",
        "\n",
        "# Ajustar train y test a las variables seleccionadas\n",
        "f = rfe.get_support(1) #the most important features\n",
        "X_train_lr = pd.DataFrame(X_train)[pd.DataFrame(X_train).columns[f]] # final features`\n",
        "X_test_lr = pd.DataFrame(X_test)[pd.DataFrame(X_train_lr).columns] # final features`"
      ],
      "metadata": {
        "id": "bAVKInptVRx7"
      },
      "execution_count": 57,
      "outputs": []
    },
    {
      "cell_type": "code",
      "execution_count": 58,
      "metadata": {
        "id": "AMR8P-V113MH"
      },
      "outputs": [],
      "source": [
        "\n",
        "def run_model_balanced(X_train, X_test, y_train, y_test):\n",
        "    clf = LogisticRegression(C=1.0,penalty='l2',random_state=1,solver=\"newton-cg\",class_weight=\"balanced\")\n",
        "    clf.fit(X_train, y_train)\n",
        "    return clf\n",
        " \n",
        " #definimos funciona para mostrar los resultados\n",
        "def mostrar_resultados(y_test, pred_y):\n",
        "    conf_matrix = confusion_matrix(y_test, pred_y)\n",
        "    plt.figure(figsize=(12, 12))\n",
        "    sns.heatmap(conf_matrix, annot=True, fmt=\"d\");\n",
        "    plt.title(\"Confusion matrix\")\n",
        "    plt.ylabel('True class')\n",
        "    plt.xlabel('Predicted class')\n",
        "    plt.show()\n",
        "    print (classification_report(y_test, pred_y))\n"
      ]
    },
    {
      "cell_type": "code",
      "source": [
        "model = run_model_balanced(X_train_lr, X_test_lr, y_train, y_test)\n",
        "pred_y = model.predict(X_test_lr)\n",
        "mostrar_resultados(y_test, pred_y)"
      ],
      "metadata": {
        "colab": {
          "base_uri": "https://localhost:8080/",
          "height": 976
        },
        "id": "hYQw7awO5pKR",
        "outputId": "60f707c0-7c5f-4faf-cfb2-0eca1343a8a3"
      },
      "execution_count": 59,
      "outputs": [
        {
          "output_type": "stream",
          "name": "stderr",
          "text": [
            "/usr/local/lib/python3.7/dist-packages/scipy/optimize/linesearch.py:314: LineSearchWarning: The line search algorithm did not converge\n",
            "  warn('The line search algorithm did not converge', LineSearchWarning)\n",
            "/usr/local/lib/python3.7/dist-packages/sklearn/utils/optimize.py:203: UserWarning: Line Search failed\n",
            "  warnings.warn(\"Line Search failed\")\n"
          ]
        },
        {
          "output_type": "display_data",
          "data": {
            "image/png": "[encoded data removed]",
            "text/plain": [
              "<Figure size 864x864 with 2 Axes>"
            ]
          },
          "metadata": {
            "needs_background": "light"
          }
        },
        {
          "output_type": "stream",
          "name": "stdout",
          "text": [
            "              precision    recall  f1-score   support\n",
            "\n",
            "           0       0.92      0.67      0.77     17338\n",
            "           1       0.18      0.55      0.27      2273\n",
            "\n",
            "    accuracy                           0.65     19611\n",
            "   macro avg       0.55      0.61      0.52     19611\n",
            "weighted avg       0.83      0.65      0.72     19611\n",
            "\n"
          ]
        }
      ]
    },
    {
      "cell_type": "code",
      "source": [
        "# Crear la predicción de  probabilidades para la variable obj  loan status usando test data\n",
        "preds = model.predict_proba(X_test_lr)\n",
        "preds_df1 = pd.DataFrame(preds[:,:], columns = ['prob_0', \"prob_default(1)\"])\n",
        "\n",
        "y_test1 = pd.DataFrame(y_test)[[\"target\"]].astype(\"float\")\n",
        "\n",
        "#reg_logistic.predict(X_test)  #Hace la predicción de la variable objetivo segun resultado modelo\n",
        "#preds_df1.head()"
      ],
      "metadata": {
        "id": "Ce4Pkr_T71Xe"
      },
      "execution_count": 60,
      "outputs": []
    },
    {
      "cell_type": "code",
      "execution_count": 61,
      "metadata": {
        "outputId": "a73d7e12-f519-439b-b860-33afe8184d38",
        "colab": {
          "base_uri": "https://localhost:8080/",
          "height": 296
        },
        "id": "DqggSHCf8CH8"
      },
      "outputs": [
        {
          "output_type": "display_data",
          "data": {
            "image/png": "[encoded data removed]",
            "text/plain": [
              "<Figure size 432x288 with 1 Axes>"
            ]
          },
          "metadata": {
            "needs_background": "light"
          }
        },
        {
          "output_type": "stream",
          "name": "stdout",
          "text": [
            "0.6582467238548977\n"
          ]
        }
      ],
      "source": [
        "# Create predictions and store them in a variable\n",
        "preds = model.predict_proba(X_test_lr)\n",
        "\n",
        "# Plot the ROC curve of the probabilities of default\n",
        "prob_default = preds[:, 1]\n",
        "fallout, sensitivity, thresholds = roc_curve(y_test1, prob_default)\n",
        "plt.plot(fallout, sensitivity, color = 'darkorange')\n",
        "plt.plot([0, 1], [0, 1], linestyle='--')\n",
        "plt.xlabel('FPR')\n",
        "plt.ylabel('TPR')\n",
        "plt.show()\n",
        "\n",
        "# Compute the AUC and store it in a variable\n",
        "auc = roc_auc_score(y_test1, prob_default)\n",
        "print(auc)"
      ]
    },
    {
      "cell_type": "code",
      "source": [
        "# Predecimos sobre nuestro set de entrenamieto\n",
        "y_train_pred = model.predict(X_train_lr)\n",
        "\n",
        "# Predecimos sobre nuestro set de test\n",
        "y_test_pred = model.predict(X_test_lr)\n",
        "\n",
        "# Comaparamos con las etiquetas reales\n",
        "print('Accuracy sobre conjunto de Train:', metrics.accuracy_score(y_train_pred,y_train))\n",
        "print('Accuracy sobre conjunto de Test:', metrics.accuracy_score(y_test_pred,y_test))"
      ],
      "metadata": {
        "colab": {
          "base_uri": "https://localhost:8080/"
        },
        "id": "W8EYPSRaiEOT",
        "outputId": "89379172-8d28-4589-d8eb-33e676c77da2"
      },
      "execution_count": 63,
      "outputs": [
        {
          "output_type": "stream",
          "name": "stdout",
          "text": [
            "Accuracy sobre conjunto de Train: 0.6512538085949949\n",
            "Accuracy sobre conjunto de Test: 0.6549385548926623\n"
          ]
        }
      ]
    }
  ],
  "metadata": {
    "colab": {
      "collapsed_sections": [],
      "name": "Predicción_diabetes_Marcela_Ballesteros.ipynb",
      "toc_visible": true,
      "provenance": []
    },
    "kernelspec": {
      "display_name": "Python 3",
      "name": "python3"
    },
    "language_info": {
      "name": "python"
    }
  },
  "nbformat": 4,
  "nbformat_minor": 0
}